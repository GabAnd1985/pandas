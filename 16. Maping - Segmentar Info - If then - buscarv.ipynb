{
 "cells": [
  {
   "cell_type": "markdown",
   "metadata": {},
   "source": [
    "# Maping"
   ]
  },
  {
   "cell_type": "code",
   "execution_count": 2,
   "metadata": {},
   "outputs": [],
   "source": [
    "import pandas as pd\n",
    "import numpy as np"
   ]
  },
  {
   "cell_type": "code",
   "execution_count": 2,
   "metadata": {},
   "outputs": [
    {
     "name": "stdout",
     "output_type": "stream",
     "text": [
      "          food  ounces\n",
      "0        bacon     4.0\n",
      "1  pulled pork     3.0\n",
      "2        bacon    12.0\n",
      "3     Pastrami     6.0\n",
      "4  corned beef     7.5\n",
      "5        Bacon     8.0\n",
      "6     pastrami     3.0\n",
      "7    honey ham     5.0\n",
      "8     nova lox     6.0\n"
     ]
    }
   ],
   "source": [
    "data1= pd.DataFrame({\"food\": [\"bacon\", \"pulled pork\", \"bacon\", \"Pastrami\", \"corned beef\",\n",
    "                              \"Bacon\", \"pastrami\", \"honey ham\", \"nova lox\"],\n",
    "                    \"ounces\": [4, 3, 12, 6, 7.5, 8, 3, 5, 6]})\n",
    "\n",
    "print(data1)"
   ]
  },
  {
   "cell_type": "markdown",
   "metadata": {},
   "source": [
    "Supongamos que queremos agregar una columna indicando el animal del cual proviene el corte. Escribimos un mapping:"
   ]
  },
  {
   "cell_type": "code",
   "execution_count": 4,
   "metadata": {},
   "outputs": [
    {
     "name": "stdout",
     "output_type": "stream",
     "text": [
      "{'bacon': 'pig', 'pulled pork': 'pig', 'pastrami': 'cow', 'corned beef': 'cow', 'honey ham': 'pig', 'nova lox': 'salmon'}\n"
     ]
    }
   ],
   "source": [
    "meat_to_animal= {\"bacon\": \"pig\", \"pulled pork\": \"pig\", \"pastrami\": \"cow\", \n",
    "                 \"corned beef\": \"cow\", \"honey ham\": \"pig\", \"nova lox\": \"salmon\"}\n",
    "\n",
    "print(meat_to_animal) #Básicamente es un diccionario"
   ]
  },
  {
   "cell_type": "markdown",
   "metadata": {},
   "source": [
    "El primer problema que encontramos es que en los datos una parte está con mayúscula, en otra con minúscula. En consecuencia, lo primero que hacemos es transformar todo a minúscula:"
   ]
  },
  {
   "cell_type": "code",
   "execution_count": 8,
   "metadata": {},
   "outputs": [
    {
     "name": "stdout",
     "output_type": "stream",
     "text": [
      "0          bacon\n",
      "1    pulled pork\n",
      "2          bacon\n",
      "3       pastrami\n",
      "4    corned beef\n",
      "5          bacon\n",
      "6       pastrami\n",
      "7      honey ham\n",
      "8       nova lox\n",
      "Name: food, dtype: object\n"
     ]
    }
   ],
   "source": [
    "data2= data1[\"food\"].str.lower()\n",
    "\n",
    "print(data2)"
   ]
  },
  {
   "cell_type": "markdown",
   "metadata": {},
   "source": [
    "Ahora procedemos con el join, agregamos una columna nueva indicando el animal:"
   ]
  },
  {
   "cell_type": "code",
   "execution_count": 13,
   "metadata": {},
   "outputs": [
    {
     "name": "stdout",
     "output_type": "stream",
     "text": [
      "          food  ounces  animal\n",
      "0        bacon     4.0     pig\n",
      "1  pulled pork     3.0     pig\n",
      "2        bacon    12.0     pig\n",
      "3     Pastrami     6.0     cow\n",
      "4  corned beef     7.5     cow\n",
      "5        Bacon     8.0     pig\n",
      "6     pastrami     3.0     cow\n",
      "7    honey ham     5.0     pig\n",
      "8     nova lox     6.0  salmon\n"
     ]
    }
   ],
   "source": [
    "data1[\"animal\"]= data2.map(meat_to_animal) \n",
    "\n",
    "print(data1)"
   ]
  },
  {
   "cell_type": "markdown",
   "metadata": {},
   "source": [
    "# If - Then"
   ]
  },
  {
   "cell_type": "markdown",
   "metadata": {},
   "source": [
    "Esto se hace con numpy, se puede hacer con técnica pandas, pero es mucho más rápido por numpy."
   ]
  },
  {
   "cell_type": "markdown",
   "metadata": {},
   "source": [
    "Importamos el archivo a usar:"
   ]
  },
  {
   "cell_type": "code",
   "execution_count": 3,
   "metadata": {},
   "outputs": [
    {
     "name": "stdout",
     "output_type": "stream",
     "text": [
      "   SISTEMA  SUCURS  LINEA_TIPO  OPERCTA  CODGARORIG  CODGAR  PRODGARANT  \\\n",
      "0        4       1           0   332877           0       0           0   \n",
      "1        4       1           0   336444           0       0           0   \n",
      "2        4       1           0   340698           0       0           0   \n",
      "3        4       1           0   342689           0       0           0   \n",
      "4        4       1           0   344224           0       0           0   \n",
      "\n",
      "   GTIAPREFER  CODIDENT     NROIDENT  ...  LIMITE FLAG_USAR_ RATIO_PREV  \\\n",
      "0         0.0        11  27278296038  ...       0          0          0   \n",
      "1         0.0        11  27361059811  ...       0          0          0   \n",
      "2         0.0        11  27112138469  ...       0          0          0   \n",
      "3         0.0        11  27180636833  ...       0          0          0   \n",
      "4         0.0        11  27282101926  ...       0          0          0   \n",
      "\n",
      "  SALDO_EAD PREVISION_ CTA_ACTIVO  CTA_SDO_NO  PPOPEESN9  PVAINCON9  PVAPVCON9  \n",
      "0         0          0          0           0        2.0        0.0        0.0  \n",
      "1         0          0          0           0        2.0        0.0        0.0  \n",
      "2         0          0          0           0        2.0        0.0        0.0  \n",
      "3         0          0          0           0        2.0        0.0        0.0  \n",
      "4         0          0          0           0        2.0        0.0        0.0  \n",
      "\n",
      "[5 rows x 115 columns]\n"
     ]
    }
   ],
   "source": [
    "xlsx= pd.ExcelFile('examples\\Inventario_202008.xlsx')\n",
    "\n",
    "File1= pd.read_excel(xlsx)\n",
    "\n",
    "print(File1.head())"
   ]
  },
  {
   "cell_type": "markdown",
   "metadata": {},
   "source": [
    "Establecemos primero las condiciones a evaluar. Generara una serie con valor verdadero o falso dependiendo si se cumple o no la condición:"
   ]
  },
  {
   "cell_type": "code",
   "execution_count": 27,
   "metadata": {},
   "outputs": [
    {
     "name": "stdout",
     "output_type": "stream",
     "text": [
      "[0         False\n",
      "1         False\n",
      "2         False\n",
      "3         False\n",
      "4         False\n",
      "          ...  \n",
      "125816    False\n",
      "125817    False\n",
      "125818    False\n",
      "125819    False\n",
      "125820    False\n",
      "Length: 125821, dtype: bool]\n"
     ]
    }
   ],
   "source": [
    "conditions= [((File1[\"PRODUC_SFB\"] == 925) & (File1[\"CODSIT\"] == \"1\"))]\n",
    "\n",
    "print(conditions)"
   ]
  },
  {
   "cell_type": "markdown",
   "metadata": {},
   "source": [
    "Luego establecemos con un tupple, el valor que adoptaran aquellas condiciones que sean Verdaderas"
   ]
  },
  {
   "cell_type": "code",
   "execution_count": 28,
   "metadata": {},
   "outputs": [],
   "source": [
    "values= [\"Gabriel\"]"
   ]
  },
  {
   "cell_type": "markdown",
   "metadata": {},
   "source": [
    "Finalmente, juntamos el valor con las condiciones True. Las que cumplan las condiciones, recibirán el valor buscado. Las que no, recibirán 0."
   ]
  },
  {
   "cell_type": "code",
   "execution_count": 29,
   "metadata": {},
   "outputs": [
    {
     "name": "stdout",
     "output_type": "stream",
     "text": [
      "        SISTEMA  SUCURS  LINEA_TIPO  OPERCTA  CODGARORIG  CODGAR  PRODGARANT  \\\n",
      "0             4       1           0   332877           0       0           0   \n",
      "1             4       1           0   336444           0       0           0   \n",
      "2             4       1           0   340698           0       0           0   \n",
      "3             4       1           0   342689           0       0           0   \n",
      "4             4       1           0   344224           0       0           0   \n",
      "...         ...     ...         ...      ...         ...     ...         ...   \n",
      "125816       99      85           0   434974           0       0           0   \n",
      "125817       99      85           0   444797           0       0           0   \n",
      "125818       99      85           0   452018           0       0           0   \n",
      "125819       99      85           0   455124           0       0           0   \n",
      "125820        4       1           0   457129           0       0           0   \n",
      "\n",
      "        GTIAPREFER  CODIDENT     NROIDENT  ...  FLAG_USAR_ RATIO_PREV  \\\n",
      "0              0.0        11  27278296038  ...           0          0   \n",
      "1              0.0        11  27361059811  ...           0          0   \n",
      "2              0.0        11  27112138469  ...           0          0   \n",
      "3              0.0        11  27180636833  ...           0          0   \n",
      "4              0.0        11  27282101926  ...           0          0   \n",
      "...            ...       ...          ...  ...         ...        ...   \n",
      "125816         0.0        11  27379426714  ...           0          0   \n",
      "125817         0.0        11  27270473747  ...           0          0   \n",
      "125818         0.0        11  27303624746  ...           0          0   \n",
      "125819         0.0        11  27350652472  ...           0          0   \n",
      "125820         0.0        11  30711163790  ...           0          0   \n",
      "\n",
      "       SALDO_EAD PREVISION_ CTA_ACTIVO CTA_SDO_NO  PPOPEESN9  PVAINCON9  \\\n",
      "0              0          0          0          0        2.0        0.0   \n",
      "1              0          0          0          0        2.0        0.0   \n",
      "2              0          0          0          0        2.0        0.0   \n",
      "3              0          0          0          0        2.0        0.0   \n",
      "4              0          0          0          0        2.0        0.0   \n",
      "...          ...        ...        ...        ...        ...        ...   \n",
      "125816         0          0          0          0      100.0        0.0   \n",
      "125817         0          0          0          0      100.0        0.0   \n",
      "125818         0          0          0          0        0.0        0.0   \n",
      "125819         0          0          0          0        0.0        0.0   \n",
      "125820         0          0          0          0        0.0        0.0   \n",
      "\n",
      "        PVAPVCON9  Nueva_Columna  \n",
      "0             0.0              0  \n",
      "1             0.0              0  \n",
      "2             0.0              0  \n",
      "3             0.0              0  \n",
      "4             0.0              0  \n",
      "...           ...            ...  \n",
      "125816        0.0              0  \n",
      "125817        0.0              0  \n",
      "125818        0.0              0  \n",
      "125819        0.0              0  \n",
      "125820        0.0              0  \n",
      "\n",
      "[125821 rows x 116 columns]\n"
     ]
    }
   ],
   "source": [
    "File1['Nueva_Columna'] = np.select(conditions, values)\n",
    "\n",
    "print(File1)"
   ]
  },
  {
   "cell_type": "markdown",
   "metadata": {},
   "source": [
    "Verificamos:"
   ]
  },
  {
   "cell_type": "code",
   "execution_count": 42,
   "metadata": {},
   "outputs": [
    {
     "name": "stdout",
     "output_type": "stream",
     "text": [
      "       SISTEMA  SUCURS  LINEA_TIPO  OPERCTA  CODGARORIG  CODGAR  PRODGARANT  \\\n",
      "331          4       1           0   304806           0       0           0   \n",
      "332          4       1           0   304811           0       0           0   \n",
      "333          4       1           0   305001           0       0           0   \n",
      "334          4       1           0   305139           0       0           0   \n",
      "335          4       1           0   305140           0       0           0   \n",
      "...        ...     ...         ...      ...         ...     ...         ...   \n",
      "89297       18      85           0   455223           0       0           0   \n",
      "89298       18      85           0   455272           0       0           0   \n",
      "89299       18      85           0   455321           0       0           0   \n",
      "89300       18      85           0   455350           0       0           0   \n",
      "89301       18      85           0   455450           0       0           0   \n",
      "\n",
      "       GTIAPREFER  CODIDENT     NROIDENT  ...  FLAG_USAR_ RATIO_PREV  \\\n",
      "331           0.0        11  27336211501  ...           0          0   \n",
      "332           0.0        11  20334472427  ...           0          0   \n",
      "333           0.0        11  20360707483  ...           0          0   \n",
      "334           0.0        11  27330231799  ...           0          0   \n",
      "335           0.0        11  27929454060  ...           0          0   \n",
      "...           ...       ...          ...  ...         ...        ...   \n",
      "89297         0.0        11  23405345439  ...           0          0   \n",
      "89298         0.0        11  27220106271  ...           0          0   \n",
      "89299         0.0        11  23405345439  ...           0          0   \n",
      "89300         0.0        11  27220106271  ...           0          0   \n",
      "89301         0.0        11  23405345439  ...           0          0   \n",
      "\n",
      "      SALDO_EAD PREVISION_ CTA_ACTIVO CTA_SDO_NO  PPOPEESN9  PVAINCON9  \\\n",
      "331           0          0          0          0      100.0        0.0   \n",
      "332           0          0          0          0      100.0        0.0   \n",
      "333           0          0          0          0      100.0        0.0   \n",
      "334           0          0          0          0      100.0        0.0   \n",
      "335           0          0          0          0      100.0        0.0   \n",
      "...         ...        ...        ...        ...        ...        ...   \n",
      "89297         0          0          0          0        0.0        0.0   \n",
      "89298         0          0          0          0        0.0        0.0   \n",
      "89299         0          0          0          0        0.0        0.0   \n",
      "89300         0          0          0          0        0.0        0.0   \n",
      "89301         0          0          0          0        0.0        0.0   \n",
      "\n",
      "       PVAPVCON9  Nueva_Columna  \n",
      "331          0.0        Gabriel  \n",
      "332          0.0        Gabriel  \n",
      "333          0.0        Gabriel  \n",
      "334          0.0        Gabriel  \n",
      "335          0.0        Gabriel  \n",
      "...          ...            ...  \n",
      "89297        0.0        Gabriel  \n",
      "89298        0.0        Gabriel  \n",
      "89299        0.0        Gabriel  \n",
      "89300        0.0        Gabriel  \n",
      "89301        0.0        Gabriel  \n",
      "\n",
      "[37654 rows x 116 columns]\n"
     ]
    }
   ],
   "source": [
    "File2= File1[File1['Nueva_Columna']== \"Gabriel\"]\n",
    "\n",
    "print(File2)"
   ]
  },
  {
   "cell_type": "markdown",
   "metadata": {},
   "source": [
    "Ahora vamos a ver cómo hacemos si tenemos varias condiciones:"
   ]
  },
  {
   "cell_type": "code",
   "execution_count": 47,
   "metadata": {},
   "outputs": [],
   "source": [
    "conditions1= [((File1[\"PRODUC_SFB\"] == 925) & (File1[\"CODSIT\"] == \"1\")),\n",
    "              ((File1[\"PRODUC_SFB\"] == 925) & (File1[\"CODSIT\"] == \"2A\")),\n",
    "              ((File1[\"PRODUC_SFB\"] == 925) & (File1[\"CODSIT\"] == \"3\")),\n",
    "              ((File1[\"PRODUC_SFB\"] == 925) & (File1[\"CODSIT\"] == \"4\")),\n",
    "              ((File1[\"PRODUC_SFB\"] == 925) & (File1[\"CODSIT\"] == \"5\")),\n",
    "              ((File1[\"PRODUC_SFB\"] == 925) & (File1[\"CODSIT\"] == \"6\"))]\n",
    "\n",
    "values1= [\"Gabriel_1\",\"Gabriel_2\",\"Gabriel_3\",\"Gabriel_4\",\"Gabriel_5\",\"Gabriel_6\"]\n",
    "\n",
    "File1['Nueva_Columna'] = np.select(conditions1, values1)\n",
    "\n",
    "#print(conditions1)"
   ]
  },
  {
   "cell_type": "markdown",
   "metadata": {},
   "source": [
    "Lo que hace básicamente es generar cuantas tablas(series) como condiciones haya. Las condiciones se separan por coma. Entonces en la primera condición, se debe cumplir que sea producto 925 y además el codsit sea igual a 1. Genera una tabla por esto, y así sucesivamente por cada condición. Para ver esto, imprimir la tabla conditions1."
   ]
  },
  {
   "cell_type": "code",
   "execution_count": 53,
   "metadata": {},
   "outputs": [
    {
     "name": "stdout",
     "output_type": "stream",
     "text": [
      "       SISTEMA  SUCURS  LINEA_TIPO  OPERCTA  CODGARORIG  CODGAR  PRODGARANT  \\\n",
      "331          4       1           0   304806           0       0           0   \n",
      "332          4       1           0   304811           0       0           0   \n",
      "333          4       1           0   305001           0       0           0   \n",
      "334          4       1           0   305139           0       0           0   \n",
      "335          4       1           0   305140           0       0           0   \n",
      "...        ...     ...         ...      ...         ...     ...         ...   \n",
      "89297       18      85           0   455223           0       0           0   \n",
      "89298       18      85           0   455272           0       0           0   \n",
      "89299       18      85           0   455321           0       0           0   \n",
      "89300       18      85           0   455350           0       0           0   \n",
      "89301       18      85           0   455450           0       0           0   \n",
      "\n",
      "       GTIAPREFER  CODIDENT     NROIDENT  ...  FLAG_USAR_ RATIO_PREV  \\\n",
      "331           0.0        11  27336211501  ...           0          0   \n",
      "332           0.0        11  20334472427  ...           0          0   \n",
      "333           0.0        11  20360707483  ...           0          0   \n",
      "334           0.0        11  27330231799  ...           0          0   \n",
      "335           0.0        11  27929454060  ...           0          0   \n",
      "...           ...       ...          ...  ...         ...        ...   \n",
      "89297         0.0        11  23405345439  ...           0          0   \n",
      "89298         0.0        11  27220106271  ...           0          0   \n",
      "89299         0.0        11  23405345439  ...           0          0   \n",
      "89300         0.0        11  27220106271  ...           0          0   \n",
      "89301         0.0        11  23405345439  ...           0          0   \n",
      "\n",
      "      SALDO_EAD PREVISION_ CTA_ACTIVO CTA_SDO_NO  PPOPEESN9  PVAINCON9  \\\n",
      "331           0          0          0          0      100.0        0.0   \n",
      "332           0          0          0          0      100.0        0.0   \n",
      "333           0          0          0          0      100.0        0.0   \n",
      "334           0          0          0          0      100.0        0.0   \n",
      "335           0          0          0          0      100.0        0.0   \n",
      "...         ...        ...        ...        ...        ...        ...   \n",
      "89297         0          0          0          0        0.0        0.0   \n",
      "89298         0          0          0          0        0.0        0.0   \n",
      "89299         0          0          0          0        0.0        0.0   \n",
      "89300         0          0          0          0        0.0        0.0   \n",
      "89301         0          0          0          0        0.0        0.0   \n",
      "\n",
      "       PVAPVCON9  Nueva_Columna  \n",
      "331          0.0      Gabriel_1  \n",
      "332          0.0      Gabriel_1  \n",
      "333          0.0      Gabriel_1  \n",
      "334          0.0      Gabriel_1  \n",
      "335          0.0      Gabriel_1  \n",
      "...          ...            ...  \n",
      "89297        0.0      Gabriel_1  \n",
      "89298        0.0      Gabriel_1  \n",
      "89299        0.0      Gabriel_1  \n",
      "89300        0.0      Gabriel_1  \n",
      "89301        0.0      Gabriel_1  \n",
      "\n",
      "[37654 rows x 116 columns]\n"
     ]
    }
   ],
   "source": [
    "File2= File1[File1['Nueva_Columna'] == \"Gabriel_1\"]\n",
    "\n",
    "print(File2)"
   ]
  },
  {
   "cell_type": "markdown",
   "metadata": {},
   "source": [
    "Podemos también mezclar condiciones de \"y\" y \"o\":"
   ]
  },
  {
   "cell_type": "code",
   "execution_count": 54,
   "metadata": {},
   "outputs": [],
   "source": [
    "conditions2= [((File1[\"PRODUC_SFB\"] == 925) & (File1[\"CODSIT\"] == \"1\")) |\n",
    "              ((File1[\"PRODUC_SFB\"] == 926) & (File1[\"CODSIT\"] == \"1\")),\n",
    "              ((File1[\"PRODUC_SFB\"] == 925) & (File1[\"CODSIT\"] == \"2A\")) |\n",
    "              ((File1[\"PRODUC_SFB\"] == 926) & (File1[\"CODSIT\"] == \"2A\")),\n",
    "              ((File1[\"PRODUC_SFB\"] == 925) & (File1[\"CODSIT\"] == \"3\")) |\n",
    "              ((File1[\"PRODUC_SFB\"] == 926) & (File1[\"CODSIT\"] == \"3\")),\n",
    "              ((File1[\"PRODUC_SFB\"] == 925) & (File1[\"CODSIT\"] == \"4\")) |\n",
    "              ((File1[\"PRODUC_SFB\"] == 926) & (File1[\"CODSIT\"] == \"4\")),\n",
    "              ((File1[\"PRODUC_SFB\"] == 925) & (File1[\"CODSIT\"] == \"5\")) |\n",
    "              ((File1[\"PRODUC_SFB\"] == 926) & (File1[\"CODSIT\"] == \"5\")),\n",
    "              ((File1[\"PRODUC_SFB\"] == 925) & (File1[\"CODSIT\"] == \"6\")) |\n",
    "              ((File1[\"PRODUC_SFB\"] == 926) & (File1[\"CODSIT\"] == \"6\"))]\n",
    "\n",
    "values2= [\"Gabriel_1\",\"Gabriel_2\",\"Gabriel_3\",\"Gabriel_4\",\"Gabriel_5\",\"Gabriel_6\"]\n",
    "\n",
    "File1['Nueva_Columna'] = np.select(conditions2, values2)\n",
    "\n",
    "#print(conditions1)"
   ]
  },
  {
   "cell_type": "markdown",
   "metadata": {},
   "source": [
    "Controlamos:"
   ]
  },
  {
   "cell_type": "code",
   "execution_count": 56,
   "metadata": {},
   "outputs": [
    {
     "name": "stdout",
     "output_type": "stream",
     "text": [
      "       SISTEMA  SUCURS  LINEA_TIPO  OPERCTA  CODGARORIG  CODGAR  PRODGARANT  \\\n",
      "331          4       1           0   304806           0       0           0   \n",
      "332          4       1           0   304811           0       0           0   \n",
      "333          4       1           0   305001           0       0           0   \n",
      "334          4       1           0   305139           0       0           0   \n",
      "335          4       1           0   305140           0       0           0   \n",
      "...        ...     ...         ...      ...         ...     ...         ...   \n",
      "89297       18      85           0   455223           0       0           0   \n",
      "89298       18      85           0   455272           0       0           0   \n",
      "89299       18      85           0   455321           0       0           0   \n",
      "89300       18      85           0   455350           0       0           0   \n",
      "89301       18      85           0   455450           0       0           0   \n",
      "\n",
      "       GTIAPREFER  CODIDENT     NROIDENT  ...  FLAG_USAR_ RATIO_PREV  \\\n",
      "331           0.0        11  27336211501  ...           0          0   \n",
      "332           0.0        11  20334472427  ...           0          0   \n",
      "333           0.0        11  20360707483  ...           0          0   \n",
      "334           0.0        11  27330231799  ...           0          0   \n",
      "335           0.0        11  27929454060  ...           0          0   \n",
      "...           ...       ...          ...  ...         ...        ...   \n",
      "89297         0.0        11  23405345439  ...           0          0   \n",
      "89298         0.0        11  27220106271  ...           0          0   \n",
      "89299         0.0        11  23405345439  ...           0          0   \n",
      "89300         0.0        11  27220106271  ...           0          0   \n",
      "89301         0.0        11  23405345439  ...           0          0   \n",
      "\n",
      "      SALDO_EAD PREVISION_ CTA_ACTIVO CTA_SDO_NO  PPOPEESN9  PVAINCON9  \\\n",
      "331           0          0          0          0      100.0        0.0   \n",
      "332           0          0          0          0      100.0        0.0   \n",
      "333           0          0          0          0      100.0        0.0   \n",
      "334           0          0          0          0      100.0        0.0   \n",
      "335           0          0          0          0      100.0        0.0   \n",
      "...         ...        ...        ...        ...        ...        ...   \n",
      "89297         0          0          0          0        0.0        0.0   \n",
      "89298         0          0          0          0        0.0        0.0   \n",
      "89299         0          0          0          0        0.0        0.0   \n",
      "89300         0          0          0          0        0.0        0.0   \n",
      "89301         0          0          0          0        0.0        0.0   \n",
      "\n",
      "       PVAPVCON9  Nueva_Columna  \n",
      "331          0.0      Gabriel_1  \n",
      "332          0.0      Gabriel_1  \n",
      "333          0.0      Gabriel_1  \n",
      "334          0.0      Gabriel_1  \n",
      "335          0.0      Gabriel_1  \n",
      "...          ...            ...  \n",
      "89297        0.0      Gabriel_1  \n",
      "89298        0.0      Gabriel_1  \n",
      "89299        0.0      Gabriel_1  \n",
      "89300        0.0      Gabriel_1  \n",
      "89301        0.0      Gabriel_1  \n",
      "\n",
      "[38048 rows x 116 columns]\n"
     ]
    }
   ],
   "source": [
    "File3= File1[File1['PRODUC_SFB'] == 925]\n",
    "\n",
    "print(File3)"
   ]
  }
 ],
 "metadata": {
  "kernelspec": {
   "display_name": "Python 3",
   "language": "python",
   "name": "python3"
  },
  "language_info": {
   "codemirror_mode": {
    "name": "ipython",
    "version": 3
   },
   "file_extension": ".py",
   "mimetype": "text/x-python",
   "name": "python",
   "nbconvert_exporter": "python",
   "pygments_lexer": "ipython3",
   "version": "3.7.6"
  }
 },
 "nbformat": 4,
 "nbformat_minor": 4
}
