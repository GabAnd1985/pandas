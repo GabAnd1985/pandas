{
 "cells": [
  {
   "cell_type": "markdown",
   "metadata": {},
   "source": [
    "# Ejecutar Códigos SQL e Importar a Pandas"
   ]
  },
  {
   "cell_type": "code",
   "execution_count": null,
   "metadata": {},
   "outputs": [],
   "source": [
    "db = sqlite3.connect(\"{}\\Estadisticas_Diarias.db\".format(deposito))\n",
    "\n",
    "cur = db.cursor()\n",
    "\n",
    "#Sólo se puede ejecutar un código por vez\n",
    "\n",
    "cur.execute(\"\"\"create TEMPORARY table APP_1 as\n",
    "               select *\n",
    "               from Estadisticas_Diarias\n",
    "               where PERFIL= \"APP\";\n",
    "               \"\"\")\n",
    "\n",
    "cur.execute(\"\"\"create TEMPORARY table APP_2 as\n",
    "               select  *,\n",
    "               REPLACE(Fecha, '.', '') as Fecha_1\n",
    "               from APP_1;\n",
    "               \"\"\")\n",
    "\n",
    "cur.execute(\"\"\"create TEMPORARY table Date_APP as\n",
    "               SELECT DISTINCT Fecha_1\n",
    "               from APP_2\n",
    "               order by Fecha_1 DESC\n",
    "               limit 5;\n",
    "               \"\"\")\n",
    "\n",
    "cur.execute(\"\"\"CREATE TEMPORARY table APP as\n",
    "               select t1.*\n",
    "               from APP_2 t1 INNER join Date_APP t2\n",
    "               on t1.Fecha_1= t2.Fecha_1;\n",
    "               \"\"\")\n",
    "\n",
    "APP = pd.read_sql_query(\"SELECT * from APP\", db)\n",
    "\n",
    "db.close()"
   ]
  }
 ],
 "metadata": {
  "kernelspec": {
   "display_name": "Python 3",
   "language": "python",
   "name": "python3"
  },
  "language_info": {
   "codemirror_mode": {
    "name": "ipython",
    "version": 3
   },
   "file_extension": ".py",
   "mimetype": "text/x-python",
   "name": "python",
   "nbconvert_exporter": "python",
   "pygments_lexer": "ipython3",
   "version": "3.7.6"
  }
 },
 "nbformat": 4,
 "nbformat_minor": 4
}
