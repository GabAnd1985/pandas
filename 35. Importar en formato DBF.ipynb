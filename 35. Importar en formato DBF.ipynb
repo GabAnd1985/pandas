{
 "cells": [
  {
   "cell_type": "markdown",
   "metadata": {},
   "source": [
    "# Importar DBF"
   ]
  },
  {
   "cell_type": "code",
   "execution_count": null,
   "metadata": {},
   "outputs": [],
   "source": [
    "from simpledbf import Dbf5\n",
    "\n",
    "dbf = Dbf5(\"{}\\MACTUAL AGO-21.DBF\".format(Ruta_inp), codec='latin') #Si hay problemas por ser UTF-8 se pone codec, sino \n",
    "                                                                    #no hace falta.\n",
    "\n",
    "df = dbf.to_dataframe()"
   ]
  }
 ],
 "metadata": {
  "kernelspec": {
   "display_name": "Python 3",
   "language": "python",
   "name": "python3"
  },
  "language_info": {
   "codemirror_mode": {
    "name": "ipython",
    "version": 3
   },
   "file_extension": ".py",
   "mimetype": "text/x-python",
   "name": "python",
   "nbconvert_exporter": "python",
   "pygments_lexer": "ipython3",
   "version": "3.7.6"
  }
 },
 "nbformat": 4,
 "nbformat_minor": 4
}
