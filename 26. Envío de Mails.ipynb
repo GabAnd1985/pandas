{
 "cells": [
  {
   "cell_type": "markdown",
   "metadata": {},
   "source": [
    "# Envío de Mails"
   ]
  },
  {
   "cell_type": "markdown",
   "metadata": {},
   "source": [
    "Se puede usar el código de más abajo si tenemos el número de servidor.\n",
    "\n",
    "Para el texto del mensaje NO dejar sangría al escribir en el renglón de abajo como si hacemos para el código.\n",
    "\n",
    "No poner acentos en el texto del mensaje dado que lo detecta como un error."
   ]
  },
  {
   "cell_type": "code",
   "execution_count": 1,
   "metadata": {},
   "outputs": [
    {
     "name": "stdout",
     "output_type": "stream",
     "text": [
      "Error: unable to send email\n"
     ]
    }
   ],
   "source": [
    "try:\n",
    "\n",
    "    xlsx= pd.ExcelFile(r\"\\\\santacruz.net\\dfs\\Shared\\riesgo\\archivosdiarios\\Prestamos WF Diarios\\Base_diaria_LiquidacionesWF-{}.xlsx\".format(Date))\n",
    "\n",
    "    Base_Gral= pd.read_excel(xlsx, skiprows= [0])\n",
    "    \n",
    "except:\n",
    "    \n",
    "    sender = 'gsalazar@bancosantacruz.com'\n",
    "    receivers = ['gsalazar@bancosantacruz.com']\n",
    "\n",
    "    message = \"\"\"From: Monitoreos Riesgos <gsalazar@bancosantacruz.com> \n",
    "To: <gsalazar@bancosantacruz.com>\n",
    "Subject: Control PP y TC liquidadas por WF\n",
    "La base del dia de la fecha no se encontraba disponible al momento de la ejecucion del monitoreo.\n",
    "\n",
    "La base de la fecha no esta disponible.\n",
    "\"\"\"\n",
    "    try:\n",
    "        smtpObj = smtplib.SMTP('172.26.100.143')\n",
    "        smtpObj.sendmail(sender, receivers, message)         \n",
    "        print (\"Successfully sent email\")\n",
    "    except:\n",
    "        print (\"Error: unable to send email\")"
   ]
  },
  {
   "cell_type": "markdown",
   "metadata": {},
   "source": [
    "Otra forma (usar esta siempre si no hay adjuntos):"
   ]
  },
  {
   "cell_type": "code",
   "execution_count": null,
   "metadata": {},
   "outputs": [],
   "source": [
    "import smtplib\n",
    "from email.mime.multipart import MIMEMultipart\n",
    "from email.mime.text import MIMEText\n",
    "\n",
    "\n",
    "fromaddr = 'Monitoreos Riesgos <svpython@bancosantacruz.com>'\n",
    "toaddr = ['gsalazar@bancosantacruz.com']\n",
    "\n",
    "msg = MIMEMultipart()\n",
    "\n",
    "msg['From'] = fromaddr\n",
    "msg['To'] = \", \".join(toaddr)\n",
    "msg['Subject'] = \"Control PP y TC liquidadas por WF\"\n",
    "\n",
    "body = \"Ehh gato loco picá\"\n",
    "\n",
    "msg.attach(MIMEText(body, 'plain'))\n",
    "\n",
    "server = smtplib.SMTP('172.26.100.143')\n",
    "server.starttls()\n",
    "text = msg.as_string()\n",
    "server.sendmail(fromaddr, toaddr, text)"
   ]
  },
  {
   "cell_type": "markdown",
   "metadata": {},
   "source": [
    "# Envío con archivo adjunto"
   ]
  },
  {
   "cell_type": "markdown",
   "metadata": {},
   "source": [
    "La única manera es primero generar el excel, depositarlo y luego correr este código para mandarlo."
   ]
  },
  {
   "cell_type": "code",
   "execution_count": null,
   "metadata": {},
   "outputs": [],
   "source": [
    "import smtplib\n",
    "from email.mime.multipart import MIMEMultipart\n",
    "from email.mime.text import MIMEText\n",
    "from email.mime.base import MIMEBase\n",
    "from email import encoders\n",
    "\n",
    "fromaddr = 'Monitoreos Riesgos <svpython@bancosantacruz.com>'\n",
    "toaddr = ['gsalazar@bancosantacruz.com']\n",
    "\n",
    "msg = MIMEMultipart()\n",
    "\n",
    "msg['From'] = fromaddr\n",
    "msg['To'] = \", \".join(toaddr)\n",
    "msg['Subject'] = \"Control PP y TC liquidadas por WF\"\n",
    "\n",
    "body = \"Se adjuntan los PP y TC liquidadas por WF con observaciones.\"\n",
    "\n",
    "msg.attach(MIMEText(body, 'plain'))\n",
    "\n",
    "filename = \"Prestamos_a_Controlar.xlsx\"\n",
    "attachment = open(r\"\\\\santacruz.net\\dfs\\Shared\\riesgo\\BANCA DE CONSUMO\\CONTROL WF\\Resultados\\Prestamos_a_Controlar.xlsx\", \n",
    "\"rb\")\n",
    "\n",
    "part = MIMEBase('application', 'octet-stream')\n",
    "part.set_payload((attachment).read())\n",
    "encoders.encode_base64(part)\n",
    "part.add_header('Content-Disposition', \"attachment; filename= %s\" % filename)\n",
    "\n",
    "msg.attach(part)\n",
    "\n",
    "server = smtplib.SMTP('172.26.100.143')\n",
    "server.starttls()\n",
    "#server.login(fromaddr, \"TYPEPASSWORD\") #Type Password\n",
    "text = msg.as_string()\n",
    "server.sendmail(fromaddr, toaddr, text)\n",
    "server.quit()\n",
    "attachment.close()"
   ]
  }
 ],
 "metadata": {
  "kernelspec": {
   "display_name": "Python 3",
   "language": "python",
   "name": "python3"
  },
  "language_info": {
   "codemirror_mode": {
    "name": "ipython",
    "version": 3
   },
   "file_extension": ".py",
   "mimetype": "text/x-python",
   "name": "python",
   "nbconvert_exporter": "python",
   "pygments_lexer": "ipython3",
   "version": "3.7.6"
  }
 },
 "nbformat": 4,
 "nbformat_minor": 4
}
