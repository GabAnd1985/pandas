{
 "cells": [
  {
   "cell_type": "markdown",
   "metadata": {},
   "source": [
    "# Convertir una tabla pandas a SQLite"
   ]
  },
  {
   "cell_type": "code",
   "execution_count": null,
   "metadata": {},
   "outputs": [],
   "source": [
    "import sqlite3\n",
    "\n",
    "import pandas as pd\n",
    "\n",
    "#El primer paso genera la conexión y crea del depositorio de la base, tb se puede usar la sentencia memory a los efectos de que no se guarde\n",
    "\n",
    "db = sqlite3.connect(r'\\\\santacruz.net\\FS03BSC\\Shared\\riesgo\\BANCA DE CONSUMO\\CONTROLES BASE PRECALIFICADOS\\Bases Precalificados ATM\\Precalif_202001.db')\n",
    "\n",
    "#importamos\n",
    "\n",
    "Base = pd.read_excel(r'\\\\santacruz.net\\FS03BSC\\Shared\\riesgo\\archivosdiarios\\Precalificados ATM\\PrecalificadosATM.xlsx', skiprow= 0)\n",
    "\n",
    "#Convertimos, aquí podemos agregar la sentencia de que si ya existe la tabla, no la reemplace y sólo se agreguen registros abajo\n",
    "\n",
    "Base.to_sql('Precalif', db, index=False)\n",
    "\n",
    "Base.to_sql('Precalif', db, if_exists='append', index=False)\n",
    "\n",
    "#Cerramos la conexión. Si no lo hacemos, nos arrojará el error de que Python tiene abierto el archivo\n",
    "\n",
    "db.close()"
   ]
  }
 ],
 "metadata": {
  "kernelspec": {
   "display_name": "Python 3",
   "language": "python",
   "name": "python3"
  },
  "language_info": {
   "codemirror_mode": {
    "name": "ipython",
    "version": 3
   },
   "file_extension": ".py",
   "mimetype": "text/x-python",
   "name": "python",
   "nbconvert_exporter": "python",
   "pygments_lexer": "ipython3",
   "version": "3.7.6"
  }
 },
 "nbformat": 4,
 "nbformat_minor": 4
}
