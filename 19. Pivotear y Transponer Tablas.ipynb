{
 "cells": [
  {
   "cell_type": "markdown",
   "metadata": {},
   "source": [
    "# Stack and Unstack"
   ]
  },
  {
   "cell_type": "markdown",
   "metadata": {},
   "source": [
    "Recordar que también está la función groupby, con lo cual, si queremos agrupar, dicha función puede ser más útil. Lo que está en el presente capítulo sirve más para reordenar filas y columnas de un dataset, transponer tablas, etc."
   ]
  },
  {
   "cell_type": "markdown",
   "metadata": {},
   "source": [
    "- Stack: rota los datos de las columnas a las filas\n",
    "- Unstack: pivotea de las filas a las columnas"
   ]
  },
  {
   "cell_type": "code",
   "execution_count": 1,
   "metadata": {},
   "outputs": [],
   "source": [
    "import pandas as pd\n",
    "import numpy as np"
   ]
  },
  {
   "cell_type": "markdown",
   "metadata": {},
   "source": [
    "### Stack"
   ]
  },
  {
   "cell_type": "code",
   "execution_count": 2,
   "metadata": {},
   "outputs": [
    {
     "name": "stdout",
     "output_type": "stream",
     "text": [
      "number    one  two  three\n",
      "state                    \n",
      "Ohio        0    1      2\n",
      "Colorado    3    4      5\n"
     ]
    }
   ],
   "source": [
    "data= pd.DataFrame(np.arange(6).reshape((2,3)),\n",
    "                   index= pd.Index([\"Ohio\", \"Colorado\"], name= \"state\"),\n",
    "                   columns= pd.Index([\"one\", \"two\", \"three\"],\n",
    "                   name= \"number\"))\n",
    "\n",
    "print(data)"
   ]
  },
  {
   "cell_type": "markdown",
   "metadata": {},
   "source": [
    "Al usar el método stack, producimos una serie:"
   ]
  },
  {
   "cell_type": "code",
   "execution_count": 11,
   "metadata": {},
   "outputs": [
    {
     "name": "stdout",
     "output_type": "stream",
     "text": [
      "state     number\n",
      "Ohio      one       0\n",
      "          two       1\n",
      "          three     2\n",
      "Colorado  one       3\n",
      "          two       4\n",
      "          three     5\n",
      "dtype: int32\n"
     ]
    }
   ],
   "source": [
    "result= data.stack()\n",
    "\n",
    "print(result)"
   ]
  },
  {
   "cell_type": "markdown",
   "metadata": {},
   "source": [
    "Como vemos, las columnas se convierten en filas"
   ]
  },
  {
   "cell_type": "markdown",
   "metadata": {},
   "source": [
    "Es importante saber también que al llamar el stack, podemos indicar el nombre de la fila que queremos stackear"
   ]
  },
  {
   "cell_type": "markdown",
   "metadata": {},
   "source": [
    "### Unstack"
   ]
  },
  {
   "cell_type": "code",
   "execution_count": 5,
   "metadata": {},
   "outputs": [
    {
     "name": "stdout",
     "output_type": "stream",
     "text": [
      "number    one  two  three\n",
      "state                    \n",
      "Ohio        0    1      2\n",
      "Colorado    3    4      5\n"
     ]
    }
   ],
   "source": [
    "result1= result.unstack()\n",
    "\n",
    "print(result1)"
   ]
  },
  {
   "cell_type": "markdown",
   "metadata": {},
   "source": [
    "También podemos seleccionar que es lo que queremos unstackear pasando un número o título:"
   ]
  },
  {
   "cell_type": "code",
   "execution_count": 8,
   "metadata": {},
   "outputs": [
    {
     "name": "stdout",
     "output_type": "stream",
     "text": [
      "number    one  two  three\n",
      "state                    \n",
      "Ohio        0    1      2\n",
      "Colorado    3    4      5\n",
      "-------------------\n",
      "state   Ohio  Colorado\n",
      "number                \n",
      "one        0         3\n",
      "two        1         4\n",
      "three      2         5\n"
     ]
    }
   ],
   "source": [
    "result2= result.unstack(0)\n",
    "\n",
    "print(result1) #En este queda el number primero como fila\n",
    "print(\"-------------------\")\n",
    "print(result2)  #En este queda el state primero como fila"
   ]
  },
  {
   "cell_type": "code",
   "execution_count": 10,
   "metadata": {},
   "outputs": [
    {
     "name": "stdout",
     "output_type": "stream",
     "text": [
      "number    one  two  three\n",
      "state                    \n",
      "Ohio        0    1      2\n",
      "Colorado    3    4      5\n",
      "-------------------\n",
      "state   Ohio  Colorado\n",
      "number                \n",
      "one        0         3\n",
      "two        1         4\n",
      "three      2         5\n"
     ]
    }
   ],
   "source": [
    "result3= result.unstack(\"state\")\n",
    "\n",
    "print(result1)  #En este queda el number primero como fila\n",
    "print(\"-------------------\")\n",
    "print(result3)  #En este queda el state primero como fila"
   ]
  },
  {
   "cell_type": "markdown",
   "metadata": {},
   "source": [
    "# Pivoting \"wide\" to \"long\" format"
   ]
  },
  {
   "cell_type": "markdown",
   "metadata": {},
   "source": [
    "Básicamente, lo que hace este método es transfomrar múltiples columnas en una, produciendo un nuevo dataframe que es más largo que el original."
   ]
  },
  {
   "cell_type": "code",
   "execution_count": 6,
   "metadata": {},
   "outputs": [
    {
     "name": "stdout",
     "output_type": "stream",
     "text": [
      "   key  A  B  C\n",
      "0  foo  1  4  7\n",
      "1  bar  2  5  8\n",
      "2  baz  3  6  9\n"
     ]
    }
   ],
   "source": [
    "df= pd.DataFrame({\"key\": [\"foo\", \"bar\", \"baz\"],\n",
    "                  \"A\": [1, 2, 3],\n",
    "                  \"B\": [4, 5, 6],\n",
    "                  \"C\": [7, 8, 9]})\n",
    "\n",
    "print(df)"
   ]
  },
  {
   "cell_type": "markdown",
   "metadata": {},
   "source": [
    "Al usar la función de pandas melt, debemos indicar cuál de las columnas es un indicador de agrupación, en este caso vamos a usar \"key\":"
   ]
  },
  {
   "cell_type": "code",
   "execution_count": 13,
   "metadata": {},
   "outputs": [
    {
     "name": "stdout",
     "output_type": "stream",
     "text": [
      "   key variable  value\n",
      "0  foo        A      1\n",
      "1  bar        A      2\n",
      "2  baz        A      3\n",
      "3  foo        B      4\n",
      "4  bar        B      5\n",
      "5  baz        B      6\n",
      "6  foo        C      7\n",
      "7  bar        C      8\n",
      "8  baz        C      9\n"
     ]
    }
   ],
   "source": [
    "melted= pd.melt(df, [\"key\"])\n",
    "\n",
    "print(melted)"
   ]
  },
  {
   "cell_type": "markdown",
   "metadata": {},
   "source": [
    "Para volver la tabla como a un principio, usamos la función pivot:"
   ]
  },
  {
   "cell_type": "code",
   "execution_count": 15,
   "metadata": {},
   "outputs": [
    {
     "name": "stdout",
     "output_type": "stream",
     "text": [
      "variable  A  B  C\n",
      "key              \n",
      "bar       2  5  8\n",
      "baz       3  6  9\n",
      "foo       1  4  7\n"
     ]
    }
   ],
   "source": [
    "reshaped= melted.pivot(\"key\", \"variable\", \"value\")\n",
    "\n",
    "print(reshaped)"
   ]
  },
  {
   "cell_type": "markdown",
   "metadata": {},
   "source": [
    "Para que tenga el mismo aspecto que el original, podemos eliminar el indice de filas:"
   ]
  },
  {
   "cell_type": "code",
   "execution_count": 21,
   "metadata": {},
   "outputs": [
    {
     "name": "stdout",
     "output_type": "stream",
     "text": [
      "variable  key  A  B  C\n",
      "0         bar  2  5  8\n",
      "1         baz  3  6  9\n",
      "2         foo  1  4  7\n"
     ]
    }
   ],
   "source": [
    "reshaped1= reshaped.reset_index()\n",
    "\n",
    "print(reshaped1)"
   ]
  },
  {
   "cell_type": "markdown",
   "metadata": {},
   "source": [
    "Por último, al usar el melt, podemos inidcar las columnas a usar como valores:"
   ]
  },
  {
   "cell_type": "code",
   "execution_count": 22,
   "metadata": {},
   "outputs": [
    {
     "name": "stdout",
     "output_type": "stream",
     "text": [
      "   key variable  value\n",
      "0  foo        A      1\n",
      "1  bar        A      2\n",
      "2  baz        A      3\n",
      "3  foo        B      4\n",
      "4  bar        B      5\n",
      "5  baz        B      6\n"
     ]
    }
   ],
   "source": [
    "melted1= pd.melt(df, id_vars= [\"key\"], value_vars= [\"A\", \"B\"])\n",
    "\n",
    "print(melted1)"
   ]
  },
  {
   "cell_type": "markdown",
   "metadata": {},
   "source": [
    "Como vemos, dejo afuera a los valores de la columna \"C\", por no haber sido seleccionada."
   ]
  }
 ],
 "metadata": {
  "kernelspec": {
   "display_name": "Python 3",
   "language": "python",
   "name": "python3"
  },
  "language_info": {
   "codemirror_mode": {
    "name": "ipython",
    "version": 3
   },
   "file_extension": ".py",
   "mimetype": "text/x-python",
   "name": "python",
   "nbconvert_exporter": "python",
   "pygments_lexer": "ipython3",
   "version": "3.7.6"
  }
 },
 "nbformat": 4,
 "nbformat_minor": 4
}
