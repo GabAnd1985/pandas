{
 "cells": [
  {
   "cell_type": "markdown",
   "metadata": {},
   "source": [
    "# Eliminar Duplicados"
   ]
  },
  {
   "cell_type": "code",
   "execution_count": 4,
   "metadata": {},
   "outputs": [],
   "source": [
    "import pandas as pd\n",
    "import numpy as np"
   ]
  },
  {
   "cell_type": "code",
   "execution_count": 7,
   "metadata": {},
   "outputs": [
    {
     "name": "stdout",
     "output_type": "stream",
     "text": [
      "    k1  k2\n",
      "0  one   1\n",
      "1  two   1\n",
      "2  one   2\n",
      "3  two   3\n",
      "4  one   3\n",
      "5  two   4\n",
      "6  two   4\n"
     ]
    }
   ],
   "source": [
    "data1 = pd.DataFrame({\"k1\": [\"one\", \"two\"] * 3 + [\"two\"], \"k2\": [1, 1, 2, 3, 3, 4, 4]})\n",
    "\n",
    "print(data1)"
   ]
  },
  {
   "cell_type": "markdown",
   "metadata": {},
   "source": [
    "El método que vamos a emplear nos indica con un Verdadero o Falso si la fila está duplicada o no:"
   ]
  },
  {
   "cell_type": "code",
   "execution_count": 9,
   "metadata": {},
   "outputs": [
    {
     "name": "stdout",
     "output_type": "stream",
     "text": [
      "0    False\n",
      "1    False\n",
      "2    False\n",
      "3    False\n",
      "4    False\n",
      "5    False\n",
      "6     True\n",
      "dtype: bool\n"
     ]
    }
   ],
   "source": [
    "data2= data1.duplicated()\n",
    "\n",
    "print(data2)"
   ]
  },
  {
   "cell_type": "markdown",
   "metadata": {},
   "source": [
    "Con drop_duplicates directamente eliminamos los duplicados:"
   ]
  },
  {
   "cell_type": "code",
   "execution_count": 11,
   "metadata": {},
   "outputs": [
    {
     "name": "stdout",
     "output_type": "stream",
     "text": [
      "    k1  k2\n",
      "0  one   1\n",
      "1  two   1\n",
      "2  one   2\n",
      "3  two   3\n",
      "4  one   3\n",
      "5  two   4\n"
     ]
    }
   ],
   "source": [
    "data3= data1.drop_duplicates()\n",
    "\n",
    "print(data3)"
   ]
  },
  {
   "cell_type": "markdown",
   "metadata": {},
   "source": [
    "Ambos métodos analizados consideran todas las columnas, alternativamente podemos especificar cualquier subset para detectar duplicados. Supongamos que tenemos una columna adicional, pero queremos eliminar duplicados considerando sólo la columna 1:"
   ]
  },
  {
   "cell_type": "code",
   "execution_count": 12,
   "metadata": {},
   "outputs": [
    {
     "name": "stdout",
     "output_type": "stream",
     "text": [
      "    k1  k2  v1\n",
      "0  one   1   0\n",
      "1  two   1   1\n",
      "2  one   2   2\n",
      "3  two   3   3\n",
      "4  one   3   4\n",
      "5  two   4   5\n",
      "6  two   4   6\n"
     ]
    }
   ],
   "source": [
    "data1[\"v1\"]= range(7)\n",
    "\n",
    "print(data1)"
   ]
  },
  {
   "cell_type": "code",
   "execution_count": 16,
   "metadata": {},
   "outputs": [
    {
     "name": "stdout",
     "output_type": "stream",
     "text": [
      "    k1  k2  v1\n",
      "0  one   1   0\n",
      "1  two   1   1\n"
     ]
    }
   ],
   "source": [
    "data4= data1.drop_duplicates([\"k1\"])\n",
    "\n",
    "print(data4)"
   ]
  },
  {
   "cell_type": "markdown",
   "metadata": {},
   "source": [
    "Para este último método, por defecto se mantiene la primera observación encontrada. Para dejar la última, agregamos la siguiente indicación:"
   ]
  },
  {
   "cell_type": "code",
   "execution_count": 20,
   "metadata": {},
   "outputs": [
    {
     "name": "stdout",
     "output_type": "stream",
     "text": [
      "    k1  k2  v1\n",
      "0  one   1   0\n",
      "1  two   1   1\n",
      "2  one   2   2\n",
      "3  two   3   3\n",
      "4  one   3   4\n",
      "5  two   4   5\n"
     ]
    }
   ],
   "source": [
    "data5= data1.drop_duplicates([\"k1\", \"k2\"], keep= \"first\")\n",
    "\n",
    "print(data5)"
   ]
  },
  {
   "cell_type": "code",
   "execution_count": 19,
   "metadata": {},
   "outputs": [
    {
     "name": "stdout",
     "output_type": "stream",
     "text": [
      "    k1  k2  v1\n",
      "0  one   1   0\n",
      "1  two   1   1\n",
      "2  one   2   2\n",
      "3  two   3   3\n",
      "4  one   3   4\n",
      "6  two   4   6\n"
     ]
    }
   ],
   "source": [
    "data6= data1.drop_duplicates([\"k1\", \"k2\"], keep= \"last\")\n",
    "\n",
    "print(data6)"
   ]
  },
  {
   "cell_type": "markdown",
   "metadata": {},
   "source": [
    "El método de remover duplicados puede usarse para dejar el primer registro de varios, con el que tenga el mayor valor asociado:"
   ]
  },
  {
   "cell_type": "code",
   "execution_count": 21,
   "metadata": {},
   "outputs": [
    {
     "name": "stdout",
     "output_type": "stream",
     "text": [
      "   SISTEMA  SUCURS  LINEA_TIPO  OPERCTA  CODGARORIG  CODGAR  PRODGARANT  \\\n",
      "0        4       1           0   332877           0       0           0   \n",
      "1        4       1           0   336444           0       0           0   \n",
      "2        4       1           0   340698           0       0           0   \n",
      "3        4       1           0   342689           0       0           0   \n",
      "4        4       1           0   344224           0       0           0   \n",
      "\n",
      "   GTIAPREFER  CODIDENT     NROIDENT  ...  LIMITE FLAG_USAR_ RATIO_PREV  \\\n",
      "0         0.0        11  27278296038  ...       0          0          0   \n",
      "1         0.0        11  27361059811  ...       0          0          0   \n",
      "2         0.0        11  27112138469  ...       0          0          0   \n",
      "3         0.0        11  27180636833  ...       0          0          0   \n",
      "4         0.0        11  27282101926  ...       0          0          0   \n",
      "\n",
      "  SALDO_EAD PREVISION_ CTA_ACTIVO  CTA_SDO_NO  PPOPEESN9  PVAINCON9  PVAPVCON9  \n",
      "0         0          0          0           0        2.0        0.0        0.0  \n",
      "1         0          0          0           0        2.0        0.0        0.0  \n",
      "2         0          0          0           0        2.0        0.0        0.0  \n",
      "3         0          0          0           0        2.0        0.0        0.0  \n",
      "4         0          0          0           0        2.0        0.0        0.0  \n",
      "\n",
      "[5 rows x 115 columns]\n"
     ]
    }
   ],
   "source": [
    "xlsx= pd.ExcelFile('examples\\Inventario_202008.xlsx')\n",
    "\n",
    "File1= pd.read_excel(xlsx)\n",
    "\n",
    "print(File1.head())"
   ]
  },
  {
   "cell_type": "markdown",
   "metadata": {},
   "source": [
    "Seleccionamos las columnas a usar:"
   ]
  },
  {
   "cell_type": "code",
   "execution_count": 23,
   "metadata": {},
   "outputs": [
    {
     "name": "stdout",
     "output_type": "stream",
     "text": [
      "           NROIDENT CODSIT\n",
      "0       27278296038      1\n",
      "1       27361059811      1\n",
      "2       27112138469      1\n",
      "3       27180636833      1\n",
      "4       27282101926      1\n",
      "...             ...    ...\n",
      "125816  27379426714      5\n",
      "125817  27270473747      5\n",
      "125818  27303624746      3\n",
      "125819  27350652472      5\n",
      "125820  30711163790      1\n",
      "\n",
      "[125821 rows x 2 columns]\n"
     ]
    }
   ],
   "source": [
    "File8= File1[[\"NROIDENT\", \"CODSIT\"]]\n",
    "\n",
    "print(File8)"
   ]
  },
  {
   "cell_type": "markdown",
   "metadata": {},
   "source": [
    "Ordenamos de forma ascendente por Nroident y descendente por CODSIT:"
   ]
  },
  {
   "cell_type": "code",
   "execution_count": 25,
   "metadata": {},
   "outputs": [],
   "source": [
    "File9= File8.sort_values(by= [\"NROIDENT\", \"CODSIT\"], ascending= False)"
   ]
  },
  {
   "cell_type": "markdown",
   "metadata": {},
   "source": [
    "Eliminamos duplicados:"
   ]
  },
  {
   "cell_type": "code",
   "execution_count": null,
   "metadata": {},
   "outputs": [],
   "source": [
    "File10= File9.drop_duplicates([\"NROIDENT\"])"
   ]
  },
  {
   "cell_type": "markdown",
   "metadata": {},
   "source": [
    "# Reemplazar Valores"
   ]
  },
  {
   "cell_type": "markdown",
   "metadata": {},
   "source": [
    "## Series"
   ]
  },
  {
   "cell_type": "code",
   "execution_count": 21,
   "metadata": {},
   "outputs": [
    {
     "name": "stdout",
     "output_type": "stream",
     "text": [
      "0       1.0\n",
      "1    -999.0\n",
      "2       2.0\n",
      "3    -999.0\n",
      "4   -1000.0\n",
      "5       3.0\n",
      "dtype: float64\n"
     ]
    }
   ],
   "source": [
    "data7= pd.Series([1., -999., 2., -999., -1000., 3.])\n",
    "\n",
    "print(data7)"
   ]
  },
  {
   "cell_type": "markdown",
   "metadata": {},
   "source": [
    "Hagamos de cuenta que queremos reemplazar el -999 con NaN, hacemos lo siguiente:"
   ]
  },
  {
   "cell_type": "code",
   "execution_count": 23,
   "metadata": {},
   "outputs": [
    {
     "name": "stdout",
     "output_type": "stream",
     "text": [
      "0       1.0\n",
      "1       NaN\n",
      "2       2.0\n",
      "3       NaN\n",
      "4   -1000.0\n",
      "5       3.0\n",
      "dtype: float64\n"
     ]
    }
   ],
   "source": [
    "data8= data7.replace(-999, np.nan)\n",
    "\n",
    "print(data8)"
   ]
  },
  {
   "cell_type": "markdown",
   "metadata": {},
   "source": [
    "También podemos reemplazar varios valores al mismo tiempo:"
   ]
  },
  {
   "cell_type": "code",
   "execution_count": 24,
   "metadata": {},
   "outputs": [
    {
     "name": "stdout",
     "output_type": "stream",
     "text": [
      "0    1.0\n",
      "1    NaN\n",
      "2    2.0\n",
      "3    NaN\n",
      "4    NaN\n",
      "5    3.0\n",
      "dtype: float64\n"
     ]
    }
   ],
   "source": [
    "data9= data7.replace([-999, -1000], np.nan)\n",
    "\n",
    "print(data9)"
   ]
  },
  {
   "cell_type": "markdown",
   "metadata": {},
   "source": [
    "Si queremos un reemplazo distinto para cada valor:"
   ]
  },
  {
   "cell_type": "code",
   "execution_count": 25,
   "metadata": {},
   "outputs": [
    {
     "name": "stdout",
     "output_type": "stream",
     "text": [
      "0    1.0\n",
      "1    NaN\n",
      "2    2.0\n",
      "3    NaN\n",
      "4    0.0\n",
      "5    3.0\n",
      "dtype: float64\n"
     ]
    }
   ],
   "source": [
    "data10= data7.replace([-999, -1000], [np.nan, 0])\n",
    "\n",
    "print(data10)"
   ]
  },
  {
   "cell_type": "markdown",
   "metadata": {},
   "source": [
    "El argumento también puede ser un diccionario"
   ]
  },
  {
   "cell_type": "code",
   "execution_count": 26,
   "metadata": {},
   "outputs": [
    {
     "name": "stdout",
     "output_type": "stream",
     "text": [
      "0    1.0\n",
      "1    NaN\n",
      "2    2.0\n",
      "3    NaN\n",
      "4    0.0\n",
      "5    3.0\n",
      "dtype: float64\n"
     ]
    }
   ],
   "source": [
    "data11= data7.replace({-999: np.nan, -1000:0})\n",
    "\n",
    "print(data11)"
   ]
  },
  {
   "cell_type": "markdown",
   "metadata": {},
   "source": [
    "## DataFrame"
   ]
  },
  {
   "cell_type": "markdown",
   "metadata": {},
   "source": [
    "### Reemplazamos un valor exacto por otro"
   ]
  },
  {
   "cell_type": "markdown",
   "metadata": {},
   "source": [
    "Extraemos las columnas que necesitamos (notar que no extraemos la columna con la que vamos a operar):"
   ]
  },
  {
   "cell_type": "code",
   "execution_count": 1,
   "metadata": {},
   "outputs": [
    {
     "ename": "NameError",
     "evalue": "name 'File1' is not defined",
     "output_type": "error",
     "traceback": [
      "\u001b[1;31m---------------------------------------------------------------------------\u001b[0m",
      "\u001b[1;31mNameError\u001b[0m                                 Traceback (most recent call last)",
      "\u001b[1;32m<ipython-input-1-a56c09b705a4>\u001b[0m in \u001b[0;36m<module>\u001b[1;34m\u001b[0m\n\u001b[1;32m----> 1\u001b[1;33m \u001b[0mFile2\u001b[0m\u001b[1;33m=\u001b[0m \u001b[0mFile1\u001b[0m\u001b[1;33m[\u001b[0m\u001b[1;33m[\u001b[0m\u001b[1;34m\"SUCURS\"\u001b[0m\u001b[1;33m,\u001b[0m \u001b[1;34m\"OPERCTA\"\u001b[0m\u001b[1;33m,\u001b[0m \u001b[1;34m\"NROIDENT\"\u001b[0m\u001b[1;33m,\u001b[0m \u001b[1;34m\"NOMBRE\"\u001b[0m\u001b[1;33m,\u001b[0m \u001b[1;34m\"DEUDA\"\u001b[0m\u001b[1;33m,\u001b[0m \u001b[1;34m\"PRODUC_SFB\"\u001b[0m\u001b[1;33m,\u001b[0m \u001b[1;34m\"DIASATR\"\u001b[0m\u001b[1;33m]\u001b[0m\u001b[1;33m]\u001b[0m\u001b[1;33m\u001b[0m\u001b[1;33m\u001b[0m\u001b[0m\n\u001b[0m",
      "\u001b[1;31mNameError\u001b[0m: name 'File1' is not defined"
     ]
    }
   ],
   "source": [
    "File2= File1[[\"SUCURS\", \"OPERCTA\", \"NROIDENT\", \"NOMBRE\", \"DEUDA\", \"PRODUC_SFB\", \"DIASATR\"]]"
   ]
  },
  {
   "cell_type": "markdown",
   "metadata": {},
   "source": [
    "Reemplazamos, al hacerlo se genera una serie:"
   ]
  },
  {
   "cell_type": "code",
   "execution_count": 2,
   "metadata": {},
   "outputs": [
    {
     "ename": "NameError",
     "evalue": "name 'File1' is not defined",
     "output_type": "error",
     "traceback": [
      "\u001b[1;31m---------------------------------------------------------------------------\u001b[0m",
      "\u001b[1;31mNameError\u001b[0m                                 Traceback (most recent call last)",
      "\u001b[1;32m<ipython-input-2-a617701f5a49>\u001b[0m in \u001b[0;36m<module>\u001b[1;34m\u001b[0m\n\u001b[1;32m----> 1\u001b[1;33m \u001b[0mFile3\u001b[0m\u001b[1;33m=\u001b[0m \u001b[0mFile1\u001b[0m\u001b[1;33m[\u001b[0m\u001b[1;34m\"CODSIT\"\u001b[0m\u001b[1;33m]\u001b[0m\u001b[1;33m.\u001b[0m\u001b[0mreplace\u001b[0m\u001b[1;33m(\u001b[0m\u001b[1;33m[\u001b[0m\u001b[1;34m\"2A\"\u001b[0m\u001b[1;33m,\u001b[0m \u001b[1;34m\"2B\"\u001b[0m\u001b[1;33m,\u001b[0m \u001b[1;34m\"2C\"\u001b[0m\u001b[1;33m]\u001b[0m\u001b[1;33m,\u001b[0m \u001b[1;34m\"2\"\u001b[0m\u001b[1;33m)\u001b[0m\u001b[1;33m\u001b[0m\u001b[1;33m\u001b[0m\u001b[0m\n\u001b[0m",
      "\u001b[1;31mNameError\u001b[0m: name 'File1' is not defined"
     ]
    }
   ],
   "source": [
    "File3= File1[\"CODSIT\"].replace([\"2A\", \"2B\", \"2C\"], \"2\")"
   ]
  },
  {
   "cell_type": "markdown",
   "metadata": {},
   "source": [
    "Concatenamos la tabla original con la serie. La serie adopta el nombre que había perdido."
   ]
  },
  {
   "cell_type": "code",
   "execution_count": null,
   "metadata": {},
   "outputs": [],
   "source": [
    "File4= pd.concat([File2, File3], axis= 1)  "
   ]
  },
  {
   "cell_type": "markdown",
   "metadata": {},
   "source": [
    "Filtramos sólo para controlar que esté bien:"
   ]
  },
  {
   "cell_type": "code",
   "execution_count": 20,
   "metadata": {},
   "outputs": [
    {
     "name": "stdout",
     "output_type": "stream",
     "text": [
      "       SUCURS  OPERCTA     NROIDENT                           NOMBRE  \\\n",
      "231         1   451231  20413694885           ANDINO, LEONARDO DAVID   \n",
      "236         1   454227  20305958744           OYARZUN, ROBERTO DARIO   \n",
      "238         1   454281  27316218119     CASTRO, VIRHUEZ JESICA MABEL   \n",
      "242         1   454601  20055200190              SANCHEZ JUAN CARLOS   \n",
      "13262       5   221619  30710235534  VIRTUAL GASNET INTERNACIONAL SA   \n",
      "\n",
      "           DEUDA  PRODUC_SFB  DIASATR CODSIT  \n",
      "231    242789.71         692        0      2  \n",
      "236    152447.12         692        0      2  \n",
      "238     94053.69         692        0      2  \n",
      "242    493943.87         692        0      2  \n",
      "13262   17088.53         103      123      2  \n"
     ]
    }
   ],
   "source": [
    "File5= File4[File4[\"CODSIT\"] == \"2\"]\n",
    "\n",
    "print(File5.head())"
   ]
  },
  {
   "cell_type": "markdown",
   "metadata": {},
   "source": [
    "### Reemplazamos símbolos"
   ]
  },
  {
   "cell_type": "code",
   "execution_count": 8,
   "metadata": {},
   "outputs": [
    {
     "name": "stdout",
     "output_type": "stream",
     "text": [
      "     Grupo                        Descripción de la actividad       Agrup_0\n",
      "0      1.1                                Cultivos temporales  Agropecuario\n",
      "1      1.2                                  Cultivos perennes  Agropecuario\n",
      "2      1.3  Producción de semillas y de otras formas de pr...  Agropecuario\n",
      "3      1.4                                   Cría de animales  Agropecuario\n",
      "4      1.6           Servicios de apoyo agrícolas y pecuarios  Agropecuario\n",
      "..     ...                                                ...           ...\n",
      "218   95.2  Reparación de efectos personales y enseres dom...     Servicios\n",
      "219   96.0                        Servicios personales n.c.p.     Servicios\n",
      "220   97.0  Servicios de hogares privados que contratan se...     Servicios\n",
      "221   99.8                 Otros trabajadores del transporte.     Servicios\n",
      "222   99.0  Servicios de organizaciones y órganos extrater...     Servicios\n",
      "\n",
      "[223 rows x 3 columns]\n"
     ]
    }
   ],
   "source": [
    "xlsx1= pd.ExcelFile(\"examples\\Maestro_Actividad.xlsx\")\n",
    "\n",
    "Maestro= pd.read_excel(xlsx1)\n",
    "\n",
    "print(Maestro)"
   ]
  },
  {
   "cell_type": "code",
   "execution_count": 9,
   "metadata": {},
   "outputs": [
    {
     "name": "stdout",
     "output_type": "stream",
     "text": [
      "    Grupo                        Descripción de la actividad       Agrup_0\n",
      "0      11                                Cultivos temporales  Agropecuario\n",
      "1      12                                  Cultivos perennes  Agropecuario\n",
      "2      13  Producción de semillas y de otras formas de pr...  Agropecuario\n",
      "3      14                                   Cría de animales  Agropecuario\n",
      "4      16           Servicios de apoyo agrícolas y pecuarios  Agropecuario\n",
      "..    ...                                                ...           ...\n",
      "218   952  Reparación de efectos personales y enseres dom...     Servicios\n",
      "219   960                        Servicios personales n.c.p.     Servicios\n",
      "220   970  Servicios de hogares privados que contratan se...     Servicios\n",
      "221   998                 Otros trabajadores del transporte.     Servicios\n",
      "222   990  Servicios de organizaciones y órganos extrater...     Servicios\n",
      "\n",
      "[223 rows x 3 columns]\n"
     ]
    }
   ],
   "source": [
    "Maestro['Grupo'] = Maestro['Grupo'].astype(str)\n",
    "\n",
    "Maestro['Grupo'] = (Maestro['Grupo'].replace('\\.','', regex=True))\n",
    "\n",
    "print(Maestro)"
   ]
  },
  {
   "cell_type": "markdown",
   "metadata": {},
   "source": [
    "# Reenombramos Indices de Filas y Columnas"
   ]
  },
  {
   "cell_type": "code",
   "execution_count": 45,
   "metadata": {},
   "outputs": [
    {
     "name": "stdout",
     "output_type": "stream",
     "text": [
      "          one  two  three  four\n",
      "Ohio        0    1      2     3\n",
      "Colorado    4    5      6     7\n",
      "New York    8    9     10    11\n"
     ]
    }
   ],
   "source": [
    "data12= pd.DataFrame(np.arange(12).reshape((3,4)), \n",
    "                     index= [\"Ohio\", \"Colorado\", \"New York\"], \n",
    "                     columns= [\"one\", \"two\", \"three\", \"four\"])\n",
    "\n",
    "print(data12)"
   ]
  },
  {
   "cell_type": "markdown",
   "metadata": {},
   "source": [
    "Empezamos modificando el índice de las columnas:"
   ]
  },
  {
   "cell_type": "code",
   "execution_count": 46,
   "metadata": {},
   "outputs": [
    {
     "name": "stdout",
     "output_type": "stream",
     "text": [
      "          ONE  TWO  THREE  FOUR\n",
      "Ohio        0    1      2     3\n",
      "Colorado    4    5      6     7\n",
      "New York    8    9     10    11\n"
     ]
    }
   ],
   "source": [
    "data13= data12.rename(index= str.title, columns= str.upper)\n",
    "\n",
    "print(data13)"
   ]
  },
  {
   "cell_type": "markdown",
   "metadata": {},
   "source": [
    "Ahora vamos a reemplazar Ohio por Indiana y THREE por peekaboo:"
   ]
  },
  {
   "cell_type": "code",
   "execution_count": 48,
   "metadata": {},
   "outputs": [
    {
     "name": "stdout",
     "output_type": "stream",
     "text": [
      "          one  two  peekaboo  four\n",
      "Indiana     0    1         2     3\n",
      "Colorado    4    5         6     7\n",
      "New York    8    9        10    11\n",
      "          one  two  three  four\n",
      "Ohio        0    1      2     3\n",
      "Colorado    4    5      6     7\n",
      "New York    8    9     10    11\n"
     ]
    }
   ],
   "source": [
    "data14= data12.rename(index={\"Ohio\": \"Indiana\"}, columns= {\"three\": \"peekaboo\"})\n",
    "\n",
    "print(data14)"
   ]
  },
  {
   "cell_type": "markdown",
   "metadata": {},
   "source": [
    "Si queremos modificar el objeto original, procedemos de la siguiente manera:"
   ]
  },
  {
   "cell_type": "code",
   "execution_count": 49,
   "metadata": {},
   "outputs": [
    {
     "name": "stdout",
     "output_type": "stream",
     "text": [
      "          one  two  three  four\n",
      "Indiana     0    1      2     3\n",
      "Colorado    4    5      6     7\n",
      "New York    8    9     10    11\n"
     ]
    }
   ],
   "source": [
    "data12.rename(index= {\"Ohio\": \"Indiana\"}, inplace= True) #Si no ponemos el \"inplace\", crea un objeto nuevo\n",
    "\n",
    "print(data12)"
   ]
  },
  {
   "cell_type": "code",
   "execution_count": null,
   "metadata": {},
   "outputs": [],
   "source": []
  }
 ],
 "metadata": {
  "kernelspec": {
   "display_name": "Python 3",
   "language": "python",
   "name": "python3"
  },
  "language_info": {
   "codemirror_mode": {
    "name": "ipython",
    "version": 3
   },
   "file_extension": ".py",
   "mimetype": "text/x-python",
   "name": "python",
   "nbconvert_exporter": "python",
   "pygments_lexer": "ipython3",
   "version": "3.7.6"
  }
 },
 "nbformat": 4,
 "nbformat_minor": 4
}
