{
 "cells": [
  {
   "cell_type": "markdown",
   "metadata": {},
   "source": [
    "# Importar grandes archivos por partes"
   ]
  },
  {
   "cell_type": "markdown",
   "metadata": {},
   "source": [
    "La idea es importar grandes txt por partes e ir almacenandolos en SQLite:"
   ]
  },
  {
   "cell_type": "code",
   "execution_count": null,
   "metadata": {},
   "outputs": [],
   "source": [
    "db = sqlite3.connect(r'D:\\Cendeu_{}.db'.format(fecha))\n",
    "\n",
    "chunksize= 100000\n",
    "\n",
    "for chunk in pd.read_table(r\"D:\\deudores_{}.txt\".format(fecha), header= None, nrows= 100000, chunksize=chunksize):\n",
    "\n",
    "    Cendeu_1= chunk \n",
    "    \n",
    "    Cendeu= Cendeu_3[[\"Entidad\", \"Nombre_Entidad\", \"Fecha\",  \"Tipo_Ident\", \"Ident\", \"Actividad\", \"Situacion\", \"Prestamos\", \n",
    "                      \"Participaciones\", \"Gtias_Otorgadas\", \"Otros_Conceptos\", \"Gtias_Pref_A\", \"Gtias_Pref_B\", \"Sin_Gtias\",\n",
    "                      \"Contragtias_Pref_A\", \"Contragtias_Pref_B\", \"Son_Contragtias\", \"Previsiones\", \"Deuda_Cubierta\",\n",
    "                      \"Proceso_Judicial\", \"Refinanciaciones\", \"Recat_Obligatoria\", \"Sit_Juridica\", \"Irrecup_Disp_Tec\",\n",
    "                      \"Dias_Atraso\"]]\n",
    "    \n",
    "    Cendeu.to_sql('Cendeu', db, if_exists='append', index=False)\n",
    "\n",
    "\n",
    "db.close()"
   ]
  }
 ],
 "metadata": {
  "kernelspec": {
   "display_name": "Python 3",
   "language": "python",
   "name": "python3"
  },
  "language_info": {
   "codemirror_mode": {
    "name": "ipython",
    "version": 3
   },
   "file_extension": ".py",
   "mimetype": "text/x-python",
   "name": "python",
   "nbconvert_exporter": "python",
   "pygments_lexer": "ipython3",
   "version": "3.7.6"
  }
 },
 "nbformat": 4,
 "nbformat_minor": 4
}
