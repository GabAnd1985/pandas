{
 "cells": [
  {
   "cell_type": "markdown",
   "metadata": {},
   "source": [
    "# Manejando valores vacíos o NaN"
   ]
  },
  {
   "cell_type": "code",
   "execution_count": 1,
   "metadata": {},
   "outputs": [],
   "source": [
    "import pandas as pd\n",
    "import numpy as np\n",
    "from numpy import nan as NA #con esto me ahorro tener que poner np.nan y directamente pongo NA"
   ]
  },
  {
   "cell_type": "code",
   "execution_count": 4,
   "metadata": {},
   "outputs": [
    {
     "name": "stdout",
     "output_type": "stream",
     "text": [
      "0     aardvark\n",
      "1    artichoke\n",
      "2          NaN\n",
      "3      avocado\n",
      "dtype: object\n"
     ]
    }
   ],
   "source": [
    "string_data= pd.Series([\"aardvark\", \"artichoke\", np.nan, \"avocado\"])\n",
    "\n",
    "print(string_data)"
   ]
  },
  {
   "cell_type": "code",
   "execution_count": 8,
   "metadata": {},
   "outputs": [
    {
     "name": "stdout",
     "output_type": "stream",
     "text": [
      "0    False\n",
      "1    False\n",
      "2     True\n",
      "3    False\n",
      "dtype: bool\n"
     ]
    }
   ],
   "source": [
    "data1= string_data.isnull()\n",
    "\n",
    "print(data1)"
   ]
  },
  {
   "cell_type": "markdown",
   "metadata": {},
   "source": [
    "## Eliminando valores NaN"
   ]
  },
  {
   "cell_type": "markdown",
   "metadata": {},
   "source": [
    "Para indicarle la columna en la cual debe mirar para eliminar o no la fila:"
   ]
  },
  {
   "cell_type": "code",
   "execution_count": 1,
   "metadata": {},
   "outputs": [
    {
     "ename": "NameError",
     "evalue": "name 'df' is not defined",
     "output_type": "error",
     "traceback": [
      "\u001b[1;31m---------------------------------------------------------------------------\u001b[0m",
      "\u001b[1;31mNameError\u001b[0m                                 Traceback (most recent call last)",
      "\u001b[1;32m<ipython-input-1-fdb2ed0418d3>\u001b[0m in \u001b[0;36m<module>\u001b[1;34m\u001b[0m\n\u001b[1;32m----> 1\u001b[1;33m \u001b[0mdf1\u001b[0m\u001b[1;33m=\u001b[0m \u001b[0mdf\u001b[0m\u001b[1;33m.\u001b[0m\u001b[0mdropna\u001b[0m\u001b[1;33m(\u001b[0m\u001b[0msubset\u001b[0m\u001b[1;33m=\u001b[0m\u001b[1;33m[\u001b[0m\u001b[1;34m'name'\u001b[0m\u001b[1;33m,\u001b[0m \u001b[1;34m'toy'\u001b[0m\u001b[1;33m]\u001b[0m\u001b[1;33m)\u001b[0m\u001b[1;33m\u001b[0m\u001b[1;33m\u001b[0m\u001b[0m\n\u001b[0m",
      "\u001b[1;31mNameError\u001b[0m: name 'df' is not defined"
     ]
    }
   ],
   "source": [
    "df1= df.dropna(subset=['name', 'toy'])"
   ]
  },
  {
   "cell_type": "markdown",
   "metadata": {},
   "source": [
    "Si bien se puede usar la función pandas.isnull y boolean indexing, la función dropna puede ser de utilidad:"
   ]
  },
  {
   "cell_type": "code",
   "execution_count": 11,
   "metadata": {},
   "outputs": [
    {
     "name": "stdout",
     "output_type": "stream",
     "text": [
      "0    1.0\n",
      "1    NaN\n",
      "2    3.5\n",
      "3    NaN\n",
      "4    7.0\n",
      "dtype: float64\n"
     ]
    }
   ],
   "source": [
    "data2= pd.Series([1, np.nan, 3.5, np.nan, 7])\n",
    "\n",
    "print(data2)"
   ]
  },
  {
   "cell_type": "code",
   "execution_count": 14,
   "metadata": {},
   "outputs": [
    {
     "name": "stdout",
     "output_type": "stream",
     "text": [
      "0    1.0\n",
      "2    3.5\n",
      "4    7.0\n",
      "dtype: float64\n"
     ]
    }
   ],
   "source": [
    "data3= data.dropna()\n",
    "\n",
    "print(data3)"
   ]
  },
  {
   "cell_type": "markdown",
   "metadata": {},
   "source": [
    "Si se trata de tablas del estilo DataFrame, el dropna funciona de la siguiente manera. Directamente elimina toda fila en la cual aparezca un nan. Puede que esto no sea lo que queremos:"
   ]
  },
  {
   "cell_type": "code",
   "execution_count": 3,
   "metadata": {},
   "outputs": [
    {
     "name": "stdout",
     "output_type": "stream",
     "text": [
      "     0    1    2\n",
      "0  1.0  6.5  3.0\n",
      "1  1.0  NaN  NaN\n",
      "2  NaN  NaN  NaN\n",
      "3  NaN  6.5  3.0\n"
     ]
    }
   ],
   "source": [
    "data4= pd.DataFrame([[1., 6.5, 3.], [1., NA, NA], [NA, NA, NA], [NA, 6.5, 3.]])\n",
    "\n",
    "print(data4)"
   ]
  },
  {
   "cell_type": "code",
   "execution_count": 19,
   "metadata": {},
   "outputs": [
    {
     "name": "stdout",
     "output_type": "stream",
     "text": [
      "     0    1    2\n",
      "0  1.0  6.5  3.0\n"
     ]
    }
   ],
   "source": [
    "data5= data4.dropna()\n",
    "\n",
    "print(data5)"
   ]
  },
  {
   "cell_type": "markdown",
   "metadata": {},
   "source": [
    "Si agrefamos el comando how= \"all\" lo que hace es eliminar aquellas filas en las cuales todos los valores son nan (en el ejemplo, sólo la fila 2):"
   ]
  },
  {
   "cell_type": "code",
   "execution_count": 21,
   "metadata": {},
   "outputs": [
    {
     "name": "stdout",
     "output_type": "stream",
     "text": [
      "     0    1    2\n",
      "0  1.0  6.5  3.0\n",
      "1  1.0  NaN  NaN\n",
      "3  NaN  6.5  3.0\n"
     ]
    }
   ],
   "source": [
    "data6= data4.dropna(how= \"all\")\n",
    "\n",
    "print(data6)"
   ]
  },
  {
   "cell_type": "markdown",
   "metadata": {},
   "source": [
    "Agregamos una columna con todos valores nan:"
   ]
  },
  {
   "cell_type": "code",
   "execution_count": 23,
   "metadata": {},
   "outputs": [
    {
     "name": "stdout",
     "output_type": "stream",
     "text": [
      "     0    1    2   4\n",
      "0  1.0  6.5  3.0 NaN\n",
      "1  1.0  NaN  NaN NaN\n",
      "2  NaN  NaN  NaN NaN\n",
      "3  NaN  6.5  3.0 NaN\n"
     ]
    }
   ],
   "source": [
    "data4[4]= NA\n",
    "\n",
    "print(data4)"
   ]
  },
  {
   "cell_type": "markdown",
   "metadata": {},
   "source": [
    "Eliminamos COLUMNAS en las cuales todos los valores son vacíos:"
   ]
  },
  {
   "cell_type": "code",
   "execution_count": 26,
   "metadata": {},
   "outputs": [
    {
     "name": "stdout",
     "output_type": "stream",
     "text": [
      "     0    1    2\n",
      "0  1.0  6.5  3.0\n",
      "1  1.0  NaN  NaN\n",
      "2  NaN  NaN  NaN\n",
      "3  NaN  6.5  3.0\n"
     ]
    }
   ],
   "source": [
    "data7= data4.dropna(axis= 1, how= \"all\")  #Recordar que el axis= 1 indica columnas, 0 filas\n",
    "\n",
    "print(data7)"
   ]
  },
  {
   "cell_type": "markdown",
   "metadata": {},
   "source": [
    "También podemos dejar sólo aquellas filas que tienen un cierto número de observaciones. Es decir, en toda la fila tiene por ejemplo, un mínimo de 2 obs. Entonces tiene que haber al menos dos columnas con número en la fila, si no llega, entonces la borra a la fila:"
   ]
  },
  {
   "cell_type": "code",
   "execution_count": 6,
   "metadata": {},
   "outputs": [
    {
     "name": "stdout",
     "output_type": "stream",
     "text": [
      "          0         1         2\n",
      "0  0.912617       NaN       NaN\n",
      "1  0.032959       NaN       NaN\n",
      "2  0.768436       NaN  0.239604\n",
      "3  0.184572       NaN  0.040611\n",
      "4  0.153707  0.214747  0.241338\n",
      "5  0.749207  0.022983  0.673287\n",
      "6  0.650414  0.719527  0.908032\n"
     ]
    }
   ],
   "source": [
    "data8= pd.DataFrame(np.random.rand(7,3))\n",
    "\n",
    "data8.iloc[:4, 1]= NA\n",
    "\n",
    "data8.iloc[:2, 2]= NA\n",
    "\n",
    "print(data8)"
   ]
  },
  {
   "cell_type": "code",
   "execution_count": 32,
   "metadata": {},
   "outputs": [
    {
     "name": "stdout",
     "output_type": "stream",
     "text": [
      "          0         1         2\n",
      "4  0.740376  0.421561  0.547772\n",
      "5  0.315989  0.973295  0.878467\n",
      "6  0.873333  0.808625  0.734605\n"
     ]
    }
   ],
   "source": [
    "data9= data8.dropna()\n",
    "\n",
    "print(data9)"
   ]
  },
  {
   "cell_type": "code",
   "execution_count": 33,
   "metadata": {},
   "outputs": [
    {
     "name": "stdout",
     "output_type": "stream",
     "text": [
      "          0         1         2\n",
      "2  0.667747       NaN  0.866863\n",
      "3  0.122443       NaN  0.732763\n",
      "4  0.740376  0.421561  0.547772\n",
      "5  0.315989  0.973295  0.878467\n",
      "6  0.873333  0.808625  0.734605\n"
     ]
    }
   ],
   "source": [
    "data10= data8.dropna(thresh= 2)\n",
    "\n",
    "print(data10)"
   ]
  },
  {
   "cell_type": "markdown",
   "metadata": {},
   "source": [
    "## LLenando valores vacíos"
   ]
  },
  {
   "cell_type": "markdown",
   "metadata": {},
   "source": [
    "El método más utilizado para esto es el \"fillna\", reemplaza el nan por el valor que le indiquemos:"
   ]
  },
  {
   "cell_type": "code",
   "execution_count": 7,
   "metadata": {},
   "outputs": [
    {
     "name": "stdout",
     "output_type": "stream",
     "text": [
      "          0         1         2\n",
      "0  0.912617       NaN       NaN\n",
      "1  0.032959       NaN       NaN\n",
      "2  0.768436       NaN  0.239604\n",
      "3  0.184572       NaN  0.040611\n",
      "4  0.153707  0.214747  0.241338\n",
      "5  0.749207  0.022983  0.673287\n",
      "6  0.650414  0.719527  0.908032\n"
     ]
    }
   ],
   "source": [
    "print(data8)"
   ]
  },
  {
   "cell_type": "code",
   "execution_count": 9,
   "metadata": {},
   "outputs": [
    {
     "name": "stdout",
     "output_type": "stream",
     "text": [
      "          0         1         2\n",
      "0  0.912617  0.000000  0.000000\n",
      "1  0.032959  0.000000  0.000000\n",
      "2  0.768436  0.000000  0.239604\n",
      "3  0.184572  0.000000  0.040611\n",
      "4  0.153707  0.214747  0.241338\n",
      "5  0.749207  0.022983  0.673287\n",
      "6  0.650414  0.719527  0.908032\n"
     ]
    }
   ],
   "source": [
    "data11= data8.fillna(0)\n",
    "\n",
    "print(data11)"
   ]
  },
  {
   "cell_type": "markdown",
   "metadata": {},
   "source": [
    "Combinando fillna con diccionarios, podemos elegir de qué columna reemplazamos valores:"
   ]
  },
  {
   "cell_type": "code",
   "execution_count": 10,
   "metadata": {},
   "outputs": [
    {
     "name": "stdout",
     "output_type": "stream",
     "text": [
      "          0         1         2\n",
      "0  0.912617  0.500000  0.000000\n",
      "1  0.032959  0.500000  0.000000\n",
      "2  0.768436  0.500000  0.239604\n",
      "3  0.184572  0.500000  0.040611\n",
      "4  0.153707  0.214747  0.241338\n",
      "5  0.749207  0.022983  0.673287\n",
      "6  0.650414  0.719527  0.908032\n"
     ]
    }
   ],
   "source": [
    "data12= data8.fillna({1: 0.5, 2:0})\n",
    "\n",
    "print(data12)"
   ]
  },
  {
   "cell_type": "markdown",
   "metadata": {},
   "source": [
    "Con fillna podemos retornar un nuevo objeto (como hago en los ejemplos) o bien podemos retocar el objeto ya existente."
   ]
  },
  {
   "cell_type": "markdown",
   "metadata": {},
   "source": [
    "También podemos repetir valores para abajo sobre los nan:"
   ]
  },
  {
   "cell_type": "code",
   "execution_count": 11,
   "metadata": {},
   "outputs": [
    {
     "name": "stdout",
     "output_type": "stream",
     "text": [
      "          0         1         2\n",
      "0 -1.027718  0.131535 -0.176385\n",
      "1 -0.193671  1.398645  0.012932\n",
      "2 -0.064566       NaN  1.219559\n",
      "3  0.102288       NaN -1.551823\n",
      "4 -0.453751       NaN       NaN\n",
      "5  1.858342       NaN       NaN\n"
     ]
    }
   ],
   "source": [
    "data13= pd.DataFrame(np.random.randn(6, 3))\n",
    "\n",
    "data13.iloc[2:, 1]= NA\n",
    "\n",
    "data13.iloc[4:, 2]= NA\n",
    "\n",
    "print(data13)"
   ]
  },
  {
   "cell_type": "code",
   "execution_count": 12,
   "metadata": {},
   "outputs": [
    {
     "name": "stdout",
     "output_type": "stream",
     "text": [
      "          0         1         2\n",
      "0 -1.027718  0.131535 -0.176385\n",
      "1 -0.193671  1.398645  0.012932\n",
      "2 -0.064566  1.398645  1.219559\n",
      "3  0.102288  1.398645 -1.551823\n",
      "4 -0.453751  1.398645 -1.551823\n",
      "5  1.858342  1.398645 -1.551823\n"
     ]
    }
   ],
   "source": [
    "data14= data13.fillna(method= \"ffill\")\n",
    "\n",
    "print(data14)"
   ]
  },
  {
   "cell_type": "markdown",
   "metadata": {},
   "source": [
    "También podemos limitar la cantidad de valores a llenar:"
   ]
  },
  {
   "cell_type": "code",
   "execution_count": 14,
   "metadata": {},
   "outputs": [
    {
     "name": "stdout",
     "output_type": "stream",
     "text": [
      "          0         1         2\n",
      "0 -1.027718  0.131535 -0.176385\n",
      "1 -0.193671  1.398645  0.012932\n",
      "2 -0.064566  1.398645  1.219559\n",
      "3  0.102288  1.398645 -1.551823\n",
      "4 -0.453751       NaN -1.551823\n",
      "5  1.858342       NaN -1.551823\n"
     ]
    }
   ],
   "source": [
    "data15= data13.fillna(method= \"ffill\", limit= 2)\n",
    "\n",
    "print(data15)"
   ]
  }
 ],
 "metadata": {
  "kernelspec": {
   "display_name": "Python 3",
   "language": "python",
   "name": "python3"
  },
  "language_info": {
   "codemirror_mode": {
    "name": "ipython",
    "version": 3
   },
   "file_extension": ".py",
   "mimetype": "text/x-python",
   "name": "python",
   "nbconvert_exporter": "python",
   "pygments_lexer": "ipython3",
   "version": "3.7.6"
  }
 },
 "nbformat": 4,
 "nbformat_minor": 4
}
