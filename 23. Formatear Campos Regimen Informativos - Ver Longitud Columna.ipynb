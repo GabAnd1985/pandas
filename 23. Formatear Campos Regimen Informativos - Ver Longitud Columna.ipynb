{
 "cells": [
  {
   "cell_type": "markdown",
   "metadata": {},
   "source": [
    "# LLenar campos con ceros"
   ]
  },
  {
   "cell_type": "code",
   "execution_count": 1,
   "metadata": {},
   "outputs": [],
   "source": [
    "import pandas as pd\n",
    "import numpy as np"
   ]
  },
  {
   "cell_type": "code",
   "execution_count": 2,
   "metadata": {},
   "outputs": [
    {
     "name": "stdout",
     "output_type": "stream",
     "text": [
      "    state  year  pop\n",
      "0    Ohio  2000  1.5\n",
      "1    Ohio  2001  1.7\n",
      "2    Ohio  2002  3.6\n",
      "3  Nevada  2001  2.4\n",
      "4  Nevada  2002  2.9\n",
      "5  Nevada  2003  3.2\n",
      "state     object\n",
      "year       int64\n",
      "pop      float64\n",
      "dtype: object\n"
     ]
    }
   ],
   "source": [
    "data= {\"state\": [\"Ohio\", \"Ohio\", \"Ohio\", \"Nevada\", \"Nevada\", \"Nevada\"],\n",
    "       \"year\": [2000, 2001, 2002, 2001, 2002, 2003],\n",
    "       \"pop\": [1.5, 1.7, 3.6, 2.4, 2.9, 3.2]}\n",
    "\n",
    "frame= pd.DataFrame(data)\n",
    "\n",
    "print(frame)\n",
    "print(frame.dtypes)"
   ]
  },
  {
   "cell_type": "markdown",
   "metadata": {},
   "source": [
    "Para llenar con ceros:"
   ]
  },
  {
   "cell_type": "code",
   "execution_count": 17,
   "metadata": {},
   "outputs": [
    {
     "name": "stdout",
     "output_type": "stream",
     "text": [
      "        state  year  pop\n",
      "0  000000Ohio  2000  1.5\n",
      "1  000000Ohio  2001  1.7\n",
      "2  000000Ohio  2002  3.6\n",
      "3  0000Nevada  2001  2.4\n",
      "4  0000Nevada  2002  2.9\n",
      "5  0000Nevada  2003  3.2\n"
     ]
    }
   ],
   "source": [
    "frame[\"state\"]= frame[\"state\"].str.zfill(10)\n",
    "\n",
    "print(frame)"
   ]
  },
  {
   "cell_type": "markdown",
   "metadata": {},
   "source": [
    "Podemos hacer lo mismo con campos numéricos, primero debemos convertir el campo a string:"
   ]
  },
  {
   "cell_type": "code",
   "execution_count": 7,
   "metadata": {},
   "outputs": [
    {
     "name": "stdout",
     "output_type": "stream",
     "text": [
      "        state                  year  pop\n",
      "0  000000Ohio  00000000000000002000  1.5\n",
      "1  000000Ohio  00000000000000002001  1.7\n",
      "2  000000Ohio  00000000000000002002  3.6\n",
      "3  0000Nevada  00000000000000002001  2.4\n",
      "4  0000Nevada  00000000000000002002  2.9\n",
      "5  0000Nevada  00000000000000002003  3.2\n"
     ]
    }
   ],
   "source": [
    "frame['year'] = frame['year'].astype(str)\n",
    "\n",
    "frame[\"year\"]= frame[\"year\"].str.zfill(20)\n",
    "\n",
    "print(frame)"
   ]
  },
  {
   "cell_type": "markdown",
   "metadata": {},
   "source": [
    "# LLenar campos con espacios vacíos"
   ]
  },
  {
   "cell_type": "markdown",
   "metadata": {},
   "source": [
    "Para que el texto quede alineado a la derecha:"
   ]
  },
  {
   "cell_type": "code",
   "execution_count": 11,
   "metadata": {},
   "outputs": [
    {
     "name": "stdout",
     "output_type": "stream",
     "text": [
      "                  state                  year  pop\n",
      "0            000000Ohio  00000000000000002000  1.5\n",
      "1            000000Ohio  00000000000000002001  1.7\n",
      "2            000000Ohio  00000000000000002002  3.6\n",
      "3            0000Nevada  00000000000000002001  2.4\n",
      "4            0000Nevada  00000000000000002002  2.9\n",
      "5            0000Nevada  00000000000000002003  3.2\n"
     ]
    }
   ],
   "source": [
    "frame['state']= frame['state'].str.rjust(20, \" \")\n",
    "\n",
    "print(frame)"
   ]
  },
  {
   "cell_type": "markdown",
   "metadata": {},
   "source": [
    "Para que el texto quede alineado a la izquierda:"
   ]
  },
  {
   "cell_type": "code",
   "execution_count": 13,
   "metadata": {},
   "outputs": [
    {
     "name": "stdout",
     "output_type": "stream",
     "text": [
      "                                               state                  year  \\\n",
      "0            000000Ohio                          ...  00000000000000002000   \n",
      "1            000000Ohio                          ...  00000000000000002001   \n",
      "2            000000Ohio                          ...  00000000000000002002   \n",
      "3            0000Nevada                          ...  00000000000000002001   \n",
      "4            0000Nevada                          ...  00000000000000002002   \n",
      "5            0000Nevada                          ...  00000000000000002003   \n",
      "\n",
      "   pop  \n",
      "0  1.5  \n",
      "1  1.7  \n",
      "2  3.6  \n",
      "3  2.4  \n",
      "4  2.9  \n",
      "5  3.2  \n"
     ]
    }
   ],
   "source": [
    "frame['state']= frame['state'].str.ljust(50, \" \")\n",
    "\n",
    "print(frame)"
   ]
  },
  {
   "cell_type": "markdown",
   "metadata": {},
   "source": [
    "# Ver longitud columna"
   ]
  },
  {
   "cell_type": "markdown",
   "metadata": {},
   "source": [
    "La única posibilidad es generar un campo que nos diga:"
   ]
  },
  {
   "cell_type": "code",
   "execution_count": 3,
   "metadata": {},
   "outputs": [
    {
     "name": "stdout",
     "output_type": "stream",
     "text": [
      "0    4\n",
      "1    4\n",
      "2    4\n",
      "3    6\n",
      "4    6\n",
      "5    6\n",
      "Name: state_leng, dtype: int64\n"
     ]
    }
   ],
   "source": [
    "frame['state_leng'] = frame['state'].map(str).apply(len)\n",
    "\n",
    "print(frame['state_leng'])"
   ]
  },
  {
   "cell_type": "code",
   "execution_count": null,
   "metadata": {},
   "outputs": [],
   "source": []
  }
 ],
 "metadata": {
  "kernelspec": {
   "display_name": "Python 3",
   "language": "python",
   "name": "python3"
  },
  "language_info": {
   "codemirror_mode": {
    "name": "ipython",
    "version": 3
   },
   "file_extension": ".py",
   "mimetype": "text/x-python",
   "name": "python",
   "nbconvert_exporter": "python",
   "pygments_lexer": "ipython3",
   "version": "3.7.6"
  }
 },
 "nbformat": 4,
 "nbformat_minor": 4
}
