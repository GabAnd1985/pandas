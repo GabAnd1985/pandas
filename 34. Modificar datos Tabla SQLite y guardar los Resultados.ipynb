{
 "cells": [
  {
   "cell_type": "markdown",
   "metadata": {},
   "source": [
    "# Modificar datos Tabla SQLite y guardar los resultados"
   ]
  },
  {
   "cell_type": "code",
   "execution_count": null,
   "metadata": {},
   "outputs": [],
   "source": [
    "#Primero nos conectamos a la tabla\n",
    "\n",
    "db = sqlite3.connect(\"{}\\Inventario Tareas.db\".format(ruta))\n",
    "\n",
    "#Generamos el cursor\n",
    "\n",
    "cur = db.cursor()\n",
    "\n",
    "#Actualizamos los datos\n",
    "\n",
    "cur.execute(\"\"\"UPDATE Inventario_Tareas SET \"Analista a Cargo\" = \"{}\" \n",
    "            WHERE (\"Fecha Asignación\" LIKE '%{}%' and Orden= \"{}\");\"\"\".format(Analista_Reasign, fec_Reasign, Orden_Reasign))\n",
    "            \n",
    "#GRABAMOS EL RESULTADO\n",
    "    \n",
    "db.commit()\n",
    "\n",
    "#Cerramos la conexión \n",
    "            \n",
    "db.close()\n",
    "\n",
    "print(\"Realizado!!!\")"
   ]
  }
 ],
 "metadata": {
  "kernelspec": {
   "display_name": "Python 3",
   "language": "python",
   "name": "python3"
  },
  "language_info": {
   "codemirror_mode": {
    "name": "ipython",
    "version": 3
   },
   "file_extension": ".py",
   "mimetype": "text/x-python",
   "name": "python",
   "nbconvert_exporter": "python",
   "pygments_lexer": "ipython3",
   "version": "3.7.6"
  }
 },
 "nbformat": 4,
 "nbformat_minor": 4
}
