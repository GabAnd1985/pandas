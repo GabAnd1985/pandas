{
 "cells": [
  {
   "cell_type": "markdown",
   "metadata": {},
   "source": [
    "# Agrupar Operaciones"
   ]
  },
  {
   "cell_type": "markdown",
   "metadata": {},
   "source": [
    "Una vez que cargamos y preparamos un dataset, tal vez necesitemos computar estadísticas por grupo o pivot tables para reporte o visualización. La función \"group by\" nos permite trabajar esto."
   ]
  },
  {
   "cell_type": "code",
   "execution_count": 1,
   "metadata": {},
   "outputs": [],
   "source": [
    "import pandas as pd\n",
    "import numpy as np"
   ]
  },
  {
   "cell_type": "code",
   "execution_count": 2,
   "metadata": {},
   "outputs": [
    {
     "name": "stdout",
     "output_type": "stream",
     "text": [
      "  key1 key2     data1     data2\n",
      "0    a  one -0.614413  0.158104\n",
      "1    a  two  0.978757 -0.903594\n",
      "2    b  one  0.133972  0.432452\n",
      "3    b  two  1.636817  1.639538\n",
      "4    a  one -0.021969  0.152748\n"
     ]
    }
   ],
   "source": [
    "df= pd.DataFrame({\"key1\": [\"a\", \"a\", \"b\", \"b\", \"a\"],\n",
    "                  \"key2\": [\"one\", \"two\", \"one\", \"two\", \"one\"],\n",
    "                  \"data1\": np.random.randn(5),\n",
    "                  \"data2\": np.random.randn(5)})\n",
    "\n",
    "print(df)"
   ]
  },
  {
   "cell_type": "markdown",
   "metadata": {},
   "source": [
    "Hagamos de cuenta que queremos calcular el promedio de la columna data1, usando las variable de la columnas key1:"
   ]
  },
  {
   "cell_type": "code",
   "execution_count": 3,
   "metadata": {},
   "outputs": [
    {
     "name": "stdout",
     "output_type": "stream",
     "text": [
      "<pandas.core.groupby.generic.SeriesGroupBy object at 0x07650630>\n"
     ]
    }
   ],
   "source": [
    "grouped= df[\"data1\"].groupby(df[\"key1\"])\n",
    "\n",
    "print(grouped)"
   ]
  },
  {
   "cell_type": "markdown",
   "metadata": {},
   "source": [
    "El objeto grouped es ahora un objeto groupby. Todavía no se computó nada. La idea es que este objeto tiene toda la información necesaria para luego aplicar operaciones al grupo."
   ]
  },
  {
   "cell_type": "markdown",
   "metadata": {},
   "source": [
    "Por ejemplo, si lo que queremos es calcular el promedio, hacemos lo siguiente:"
   ]
  },
  {
   "cell_type": "code",
   "execution_count": 4,
   "metadata": {},
   "outputs": [
    {
     "name": "stdout",
     "output_type": "stream",
     "text": [
      "key1\n",
      "a    0.114125\n",
      "b    0.885394\n",
      "Name: data1, dtype: float64\n"
     ]
    }
   ],
   "source": [
    "result= grouped.mean()\n",
    "\n",
    "print(result)"
   ]
  },
  {
   "cell_type": "markdown",
   "metadata": {},
   "source": [
    "Otro ejemplo:"
   ]
  },
  {
   "cell_type": "code",
   "execution_count": 6,
   "metadata": {},
   "outputs": [
    {
     "name": "stdout",
     "output_type": "stream",
     "text": [
      "<pandas.core.groupby.generic.SeriesGroupBy object at 0x01038550>\n"
     ]
    }
   ],
   "source": [
    "grouped1= df[\"data1\"].groupby([df[\"key1\"], df[\"key2\"]])\n",
    "\n",
    "print(grouped1)"
   ]
  },
  {
   "cell_type": "code",
   "execution_count": 7,
   "metadata": {},
   "outputs": [
    {
     "name": "stdout",
     "output_type": "stream",
     "text": [
      "key1  key2\n",
      "a     one    -0.318191\n",
      "      two     0.978757\n",
      "b     one     0.133972\n",
      "      two     1.636817\n",
      "Name: data1, dtype: float64\n"
     ]
    }
   ],
   "source": [
    "result1= grouped1.mean()\n",
    "\n",
    "print(result1)"
   ]
  },
  {
   "cell_type": "markdown",
   "metadata": {},
   "source": [
    "Ahora podemos aplicar el unstack:"
   ]
  },
  {
   "cell_type": "code",
   "execution_count": 11,
   "metadata": {},
   "outputs": [
    {
     "name": "stdout",
     "output_type": "stream",
     "text": [
      "key2       one       two\n",
      "key1                    \n",
      "a    -0.318191  0.978757\n",
      "b     0.133972  1.636817\n"
     ]
    }
   ],
   "source": [
    "result2= result1.unstack()\n",
    "\n",
    "print(result2)"
   ]
  },
  {
   "cell_type": "markdown",
   "metadata": {},
   "source": [
    "Otro ejemplo de una función muy usada es un count (suma, count y primedio son los más usados):"
   ]
  },
  {
   "cell_type": "code",
   "execution_count": 12,
   "metadata": {},
   "outputs": [
    {
     "name": "stdout",
     "output_type": "stream",
     "text": [
      "  key1 key2     data1     data2\n",
      "0    a  one -0.614413  0.158104\n",
      "1    a  two  0.978757 -0.903594\n",
      "2    b  one  0.133972  0.432452\n",
      "3    b  two  1.636817  1.639538\n",
      "4    a  one -0.021969  0.152748\n"
     ]
    }
   ],
   "source": [
    "print(df)"
   ]
  },
  {
   "cell_type": "code",
   "execution_count": 14,
   "metadata": {},
   "outputs": [
    {
     "name": "stdout",
     "output_type": "stream",
     "text": [
      "<pandas.core.groupby.generic.DataFrameGroupBy object at 0x01038F50>\n"
     ]
    }
   ],
   "source": [
    "result3= df.groupby([\"key1\", \"key2\"])\n",
    "\n",
    "print(result3)"
   ]
  },
  {
   "cell_type": "code",
   "execution_count": 15,
   "metadata": {},
   "outputs": [
    {
     "name": "stdout",
     "output_type": "stream",
     "text": [
      "key1  key2\n",
      "a     one     2\n",
      "      two     1\n",
      "b     one     1\n",
      "      two     1\n",
      "dtype: int64\n"
     ]
    }
   ],
   "source": [
    "result4= result3.size()\n",
    "\n",
    "print(result4)"
   ]
  }
 ],
 "metadata": {
  "kernelspec": {
   "display_name": "Python 3",
   "language": "python",
   "name": "python3"
  },
  "language_info": {
   "codemirror_mode": {
    "name": "ipython",
    "version": 3
   },
   "file_extension": ".py",
   "mimetype": "text/x-python",
   "name": "python",
   "nbconvert_exporter": "python",
   "pygments_lexer": "ipython3",
   "version": "3.7.6"
  }
 },
 "nbformat": 4,
 "nbformat_minor": 4
}
