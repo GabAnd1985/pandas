{
 "cells": [
  {
   "cell_type": "markdown",
   "metadata": {},
   "source": [
    "# Función Valor Absoluto"
   ]
  },
  {
   "cell_type": "code",
   "execution_count": 1,
   "metadata": {},
   "outputs": [],
   "source": [
    "import pandas as pd\n",
    "import numpy as np"
   ]
  },
  {
   "cell_type": "code",
   "execution_count": 2,
   "metadata": {},
   "outputs": [
    {
     "name": "stdout",
     "output_type": "stream",
     "text": [
      "               b         d         e\n",
      "Utah    2.159678 -0.531182  0.378502\n",
      "Ohio   -0.263136 -1.415770  0.679938\n",
      "Texas  -1.347887 -0.854225  0.306620\n",
      "Oregon  0.806155  0.760287 -1.518602\n"
     ]
    }
   ],
   "source": [
    "frame= pd.DataFrame(np.random.randn(4,3),\n",
    "                    columns= list(\"bde\"),\n",
    "                    index= [\"Utah\", \"Ohio\", \"Texas\", \"Oregon\"])\n",
    "\n",
    "print(frame)"
   ]
  },
  {
   "cell_type": "markdown",
   "metadata": {},
   "source": [
    "generamos valor absoluto:"
   ]
  },
  {
   "cell_type": "code",
   "execution_count": 3,
   "metadata": {},
   "outputs": [
    {
     "name": "stdout",
     "output_type": "stream",
     "text": [
      "               b         d         e\n",
      "Utah    2.159678  0.531182  0.378502\n",
      "Ohio    0.263136  1.415770  0.679938\n",
      "Texas   1.347887  0.854225  0.306620\n",
      "Oregon  0.806155  0.760287  1.518602\n"
     ]
    }
   ],
   "source": [
    "frame1= np.abs(frame)\n",
    "\n",
    "print(frame1)"
   ]
  },
  {
   "cell_type": "markdown",
   "metadata": {},
   "source": [
    "# Agregar Columna con Conteo"
   ]
  },
  {
   "cell_type": "code",
   "execution_count": 7,
   "metadata": {},
   "outputs": [
    {
     "name": "stdout",
     "output_type": "stream",
     "text": [
      "               b         d         e  a\n",
      "Utah    2.159678  0.531182  0.378502  0\n",
      "Ohio    0.263136  1.415770  0.679938  1\n",
      "Texas   1.347887  0.854225  0.306620  2\n",
      "Oregon  0.806155  0.760287  1.518602  3\n"
     ]
    }
   ],
   "source": [
    "frame1[\"a\"]= range(4)\n",
    "\n",
    "print(frame1)"
   ]
  }
 ],
 "metadata": {
  "kernelspec": {
   "display_name": "Python 3",
   "language": "python",
   "name": "python3"
  },
  "language_info": {
   "codemirror_mode": {
    "name": "ipython",
    "version": 3
   },
   "file_extension": ".py",
   "mimetype": "text/x-python",
   "name": "python",
   "nbconvert_exporter": "python",
   "pygments_lexer": "ipython3",
   "version": "3.7.6"
  }
 },
 "nbformat": 4,
 "nbformat_minor": 4
}
