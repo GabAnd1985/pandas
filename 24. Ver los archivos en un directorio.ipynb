{
 "cells": [
  {
   "cell_type": "markdown",
   "metadata": {},
   "source": [
    "# Ver los archivos de un directorio"
   ]
  },
  {
   "cell_type": "markdown",
   "metadata": {},
   "source": [
    "En la primera parte le digo queme traiga todos los archivos con extensión E, aquí puede ser txt, csv , xlsx.\n",
    "\n",
    "Luego, de la lista generada, voy extrayendo lo que necesito y lo convierto en un dataframe de pandas"
   ]
  },
  {
   "cell_type": "code",
   "execution_count": 3,
   "metadata": {},
   "outputs": [
    {
     "name": "stdout",
     "output_type": "stream",
     "text": [
      "     Fechas\n",
      "0    201028\n",
      "1    201029\n",
      "2    201030\n",
      "3    201102\n",
      "4    201103\n",
      "..      ...\n",
      "199  201214\n",
      "200  201215\n",
      "201  201216\n",
      "202  201217\n",
      "203  201218\n",
      "\n",
      "[204 rows x 1 columns]\n"
     ]
    }
   ],
   "source": [
    "import glob\n",
    "import pandas as pd\n",
    "\n",
    "filelist= glob.glob(r\"\\\\santacruz.net\\dfs\\Shared\\riesgo\\archivosdiarios\\*.E\")  \n",
    "\n",
    "newlist= []\n",
    "\n",
    "for file in filelist:\n",
    "    newlist.append(file[58:64])\n",
    "    \n",
    "fechas_1= pd.DataFrame(newlist, columns= [\"Fechas\"])\n",
    "\n",
    "fechas_1"
   ]
  },
  {
   "cell_type": "markdown",
   "metadata": {},
   "source": [
    "# Otra manera que me permite ver la fecha de Creación"
   ]
  },
  {
   "cell_type": "code",
   "execution_count": null,
   "metadata": {},
   "outputs": [],
   "source": [
    "directory= r\"\\\\santacruz.net\\FS03BSC\\Shared\\riesgo\\archivosdiarios\\Precalificados ATM\"\n",
    "\n",
    "\n",
    "file_list = []\n",
    "for i in os.listdir(directory):\n",
    "        a = os.stat(os.path.join(directory,i))\n",
    "        file_list.append([i,time.ctime(a.st_atime)]) \n",
    "        \n",
    "frame= pd.DataFrame(file_list)"
   ]
  }
 ],
 "metadata": {
  "kernelspec": {
   "display_name": "Python 3",
   "language": "python",
   "name": "python3"
  },
  "language_info": {
   "codemirror_mode": {
    "name": "ipython",
    "version": 3
   },
   "file_extension": ".py",
   "mimetype": "text/x-python",
   "name": "python",
   "nbconvert_exporter": "python",
   "pygments_lexer": "ipython3",
   "version": "3.7.6"
  }
 },
 "nbformat": 4,
 "nbformat_minor": 4
}
