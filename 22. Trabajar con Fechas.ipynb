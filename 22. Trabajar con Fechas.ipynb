{
 "cells": [
  {
   "cell_type": "markdown",
   "metadata": {},
   "source": [
    "# Trabajar con Fechas"
   ]
  },
  {
   "cell_type": "code",
   "execution_count": 1,
   "metadata": {},
   "outputs": [],
   "source": [
    "import pandas as pd\n",
    "import numpy as np"
   ]
  },
  {
   "cell_type": "markdown",
   "metadata": {},
   "source": [
    "Importamos el archivo de ejemplo:"
   ]
  },
  {
   "cell_type": "code",
   "execution_count": 2,
   "metadata": {},
   "outputs": [
    {
     "name": "stdout",
     "output_type": "stream",
     "text": [
      "     Moneda  Sucursal  Producto  Cuenta         CUIT  Fecha_Pago  Fecha_Vto  \\\n",
      "0        80         1       608   82039  20139316445      260308     250328   \n",
      "1        80         5       608   93370  30695307485      251108      30128   \n",
      "2        80         5       608   93370  30695307485      231208      30128   \n",
      "3        80         5       608   93370  30709853569      231208      30128   \n",
      "4        80         1       701  446302  30715313215      140720     140720   \n",
      "..      ...       ...       ...     ...          ...         ...        ...   \n",
      "367      80        15       608  457576  30707056920           0     111220   \n",
      "368      80        15       608  456128  20280089088           0     111220   \n",
      "369      80        55       608  456976  30715295861      250920     250920   \n",
      "370      80        25       608  457749  33716670509           0     151220   \n",
      "371      80        80       608  457921  30643644858           0     111120   \n",
      "\n",
      "       Importe  \n",
      "0      8860.00  \n",
      "1      5148.49  \n",
      "2      2926.02  \n",
      "3      3547.90  \n",
      "4    386666.91  \n",
      "..         ...  \n",
      "367   62500.00  \n",
      "368  200000.00  \n",
      "369  150000.00  \n",
      "370   36000.00  \n",
      "371  250000.00  \n",
      "\n",
      "[372 rows x 8 columns]\n"
     ]
    }
   ],
   "source": [
    "PPADO1= pd.read_table(\"examples\\PPADO 09.2020.txt\", \n",
    "                      sep= \"|\", skiprows= [0], \n",
    "                      names= [\"Moneda\", \"Sucursal\", \"Producto\", \"Cuenta\", \"CUIT\", \"Fecha_Pago\", \"Fecha_Vto\", \"Importe\"]) \n",
    "\n",
    "print(PPADO1)"
   ]
  },
  {
   "cell_type": "markdown",
   "metadata": {},
   "source": [
    "### Formato DDMMYY"
   ]
  },
  {
   "cell_type": "markdown",
   "metadata": {},
   "source": [
    "Agregamos un cero a los efectos de que quede con el formato ddmmyy:"
   ]
  },
  {
   "cell_type": "code",
   "execution_count": 3,
   "metadata": {},
   "outputs": [
    {
     "name": "stdout",
     "output_type": "stream",
     "text": [
      "     Fecha_Vto  Fecha_Pago Fecha_Vto_1 Fecha_Pago_1\n",
      "0       250328      260308      250328       260308\n",
      "1        30128      251108      030128       251108\n",
      "2        30128      231208      030128       231208\n",
      "3        30128      231208      030128       231208\n",
      "4       140720      140720      140720       140720\n",
      "..         ...         ...         ...          ...\n",
      "367     111220           0      111220           00\n",
      "368     111220           0      111220           00\n",
      "369     250920      250920      250920       250920\n",
      "370     151220           0      151220           00\n",
      "371     111120           0      111120           00\n",
      "\n",
      "[372 rows x 4 columns]\n"
     ]
    }
   ],
   "source": [
    "PPADO1= PPADO1[[\"Fecha_Vto\", \"Fecha_Pago\"]]\n",
    "\n",
    "PPADO1['Fecha_Vto_1'] = np.where(PPADO1[\"Fecha_Vto\"] < 100000, \n",
    "                                  ('0' + PPADO1['Fecha_Vto'].map(str)),\n",
    "                                   PPADO1['Fecha_Vto'].map(str))\n",
    "\n",
    "PPADO1['Fecha_Pago_1'] = np.where(PPADO1[\"Fecha_Pago\"] < 100000, \n",
    "                                  ('0' + PPADO1['Fecha_Pago'].map(str)),\n",
    "                                   PPADO1['Fecha_Pago'].map(str))\n",
    "\n",
    "print(PPADO1)"
   ]
  },
  {
   "cell_type": "markdown",
   "metadata": {},
   "source": [
    "Ahora convertimos a fecha:"
   ]
  },
  {
   "cell_type": "code",
   "execution_count": 4,
   "metadata": {},
   "outputs": [
    {
     "name": "stdout",
     "output_type": "stream",
     "text": [
      "     Fecha_Vto  Fecha_Pago Fecha_Vto_1 Fecha_Pago_1 Fecha_Vto_2\n",
      "0       250328      260308      250328       260308  2028-03-25\n",
      "1        30128      251108      030128       251108  2028-01-03\n",
      "2        30128      231208      030128       231208  2028-01-03\n",
      "3        30128      231208      030128       231208  2028-01-03\n",
      "4       140720      140720      140720       140720  2020-07-14\n",
      "..         ...         ...         ...          ...         ...\n",
      "367     111220           0      111220           00  2020-12-11\n",
      "368     111220           0      111220           00  2020-12-11\n",
      "369     250920      250920      250920       250920  2020-09-25\n",
      "370     151220           0      151220           00  2020-12-15\n",
      "371     111120           0      111120           00  2020-11-11\n",
      "\n",
      "[372 rows x 5 columns]\n"
     ]
    }
   ],
   "source": [
    "PPADO1[\"Fecha_Vto_2\"]= pd.to_datetime(PPADO1[\"Fecha_Vto_1\"], format='%d%m%y') \n",
    "\n",
    "print(PPADO1)"
   ]
  },
  {
   "cell_type": "markdown",
   "metadata": {},
   "source": [
    "Se puede convertir a fecha sin tener en cuenta los errores:"
   ]
  },
  {
   "cell_type": "code",
   "execution_count": 5,
   "metadata": {},
   "outputs": [
    {
     "name": "stdout",
     "output_type": "stream",
     "text": [
      "     Fecha_Vto  Fecha_Pago Fecha_Vto_1 Fecha_Pago_1 Fecha_Vto_2 Fecha_Pago_2\n",
      "0       250328      260308      250328       260308  2028-03-25   2008-03-26\n",
      "1        30128      251108      030128       251108  2028-01-03   2008-11-25\n",
      "2        30128      231208      030128       231208  2028-01-03   2008-12-23\n",
      "3        30128      231208      030128       231208  2028-01-03   2008-12-23\n",
      "4       140720      140720      140720       140720  2020-07-14   2020-07-14\n",
      "..         ...         ...         ...          ...         ...          ...\n",
      "367     111220           0      111220           00  2020-12-11          NaT\n",
      "368     111220           0      111220           00  2020-12-11          NaT\n",
      "369     250920      250920      250920       250920  2020-09-25   2020-09-25\n",
      "370     151220           0      151220           00  2020-12-15          NaT\n",
      "371     111120           0      111120           00  2020-11-11          NaT\n",
      "\n",
      "[372 rows x 6 columns]\n"
     ]
    }
   ],
   "source": [
    "PPADO1[\"Fecha_Pago_2\"]= pd.to_datetime(PPADO1[\"Fecha_Pago_1\"], format='%d%m%y', errors= \"coerce\") \n",
    "\n",
    "print(PPADO1)"
   ]
  },
  {
   "cell_type": "markdown",
   "metadata": {},
   "source": [
    "### Formato YYYYMMDD"
   ]
  },
  {
   "cell_type": "code",
   "execution_count": 6,
   "metadata": {},
   "outputs": [
    {
     "name": "stdout",
     "output_type": "stream",
     "text": [
      "     Fecha_Vto  Fecha_Pago Fecha_Vto_1 Fecha_Pago_1 Fecha_Vto_2 Fecha_Pago_2  \\\n",
      "0       250328      260308      250328       260308  2028-03-25   2008-03-26   \n",
      "1        30128      251108      030128       251108  2028-01-03   2008-11-25   \n",
      "2        30128      231208      030128       231208  2028-01-03   2008-12-23   \n",
      "3        30128      231208      030128       231208  2028-01-03   2008-12-23   \n",
      "4       140720      140720      140720       140720  2020-07-14   2020-07-14   \n",
      "..         ...         ...         ...          ...         ...          ...   \n",
      "367     111220           0      111220           00  2020-12-11          NaT   \n",
      "368     111220           0      111220           00  2020-12-11          NaT   \n",
      "369     250920      250920      250920       250920  2020-09-25   2020-09-25   \n",
      "370     151220           0      151220           00  2020-12-15          NaT   \n",
      "371     111120           0      111120           00  2020-11-11          NaT   \n",
      "\n",
      "    Fecha_Referencia  \n",
      "0           20200901  \n",
      "1           20200901  \n",
      "2           20200901  \n",
      "3           20200901  \n",
      "4           20200901  \n",
      "..               ...  \n",
      "367         20200901  \n",
      "368         20200901  \n",
      "369         20200901  \n",
      "370         20200901  \n",
      "371         20200901  \n",
      "\n",
      "[372 rows x 7 columns]\n"
     ]
    }
   ],
   "source": [
    "fecha= \"09.2020\"\n",
    "\n",
    "month= fecha[0:2]\n",
    "\n",
    "year= fecha[3:]\n",
    "\n",
    "fecha_referencia= year + month + \"01\"\n",
    "\n",
    "#Agregamos el dato como columna\n",
    "\n",
    "PPADO1[\"Fecha_Referencia\"]= fecha_referencia\n",
    "\n",
    "print(PPADO1)"
   ]
  },
  {
   "cell_type": "markdown",
   "metadata": {},
   "source": [
    "Convertimos ahora a fecha formato texto yyyymmdd:"
   ]
  },
  {
   "cell_type": "code",
   "execution_count": 7,
   "metadata": {},
   "outputs": [
    {
     "name": "stdout",
     "output_type": "stream",
     "text": [
      "     Fecha_Vto  Fecha_Pago Fecha_Vto_1 Fecha_Pago_1 Fecha_Vto_2 Fecha_Pago_2  \\\n",
      "0       250328      260308      250328       260308  2028-03-25   2008-03-26   \n",
      "1        30128      251108      030128       251108  2028-01-03   2008-11-25   \n",
      "2        30128      231208      030128       231208  2028-01-03   2008-12-23   \n",
      "3        30128      231208      030128       231208  2028-01-03   2008-12-23   \n",
      "4       140720      140720      140720       140720  2020-07-14   2020-07-14   \n",
      "..         ...         ...         ...          ...         ...          ...   \n",
      "367     111220           0      111220           00  2020-12-11          NaT   \n",
      "368     111220           0      111220           00  2020-12-11          NaT   \n",
      "369     250920      250920      250920       250920  2020-09-25   2020-09-25   \n",
      "370     151220           0      151220           00  2020-12-15          NaT   \n",
      "371     111120           0      111120           00  2020-11-11          NaT   \n",
      "\n",
      "    Fecha_Referencia Fecha_Referencia_1  \n",
      "0           20200901         2020-09-01  \n",
      "1           20200901         2020-09-01  \n",
      "2           20200901         2020-09-01  \n",
      "3           20200901         2020-09-01  \n",
      "4           20200901         2020-09-01  \n",
      "..               ...                ...  \n",
      "367         20200901         2020-09-01  \n",
      "368         20200901         2020-09-01  \n",
      "369         20200901         2020-09-01  \n",
      "370         20200901         2020-09-01  \n",
      "371         20200901         2020-09-01  \n",
      "\n",
      "[372 rows x 8 columns]\n"
     ]
    }
   ],
   "source": [
    "PPADO1[\"Fecha_Referencia_1\"]= pd.to_datetime(PPADO1[\"Fecha_Referencia\"], format='%Y%m%d')\n",
    "\n",
    "print(PPADO1)"
   ]
  },
  {
   "cell_type": "markdown",
   "metadata": {},
   "source": [
    "### Formato YYMMDD"
   ]
  },
  {
   "cell_type": "code",
   "execution_count": null,
   "metadata": {},
   "outputs": [],
   "source": [
    "PPADO1[\"Fecha_Referencia_1\"]= pd.to_datetime(PPADO1[\"Fecha_Referencia\"], format='%y%m%d')"
   ]
  },
  {
   "cell_type": "markdown",
   "metadata": {},
   "source": [
    "### Pasamos a fin de mes"
   ]
  },
  {
   "cell_type": "markdown",
   "metadata": {},
   "source": [
    "Tenemos que agregar primero la librería:"
   ]
  },
  {
   "cell_type": "code",
   "execution_count": 8,
   "metadata": {},
   "outputs": [],
   "source": [
    "from pandas.tseries.offsets import MonthEnd\n",
    "from pandas.tseries.offsets import MonthBegin"
   ]
  },
  {
   "cell_type": "code",
   "execution_count": 9,
   "metadata": {},
   "outputs": [
    {
     "name": "stdout",
     "output_type": "stream",
     "text": [
      "     Fecha_Vto  Fecha_Pago Fecha_Vto_1 Fecha_Pago_1 Fecha_Vto_2 Fecha_Pago_2  \\\n",
      "0       250328      260308      250328       260308  2028-03-25   2008-03-26   \n",
      "1        30128      251108      030128       251108  2028-01-03   2008-11-25   \n",
      "2        30128      231208      030128       231208  2028-01-03   2008-12-23   \n",
      "3        30128      231208      030128       231208  2028-01-03   2008-12-23   \n",
      "4       140720      140720      140720       140720  2020-07-14   2020-07-14   \n",
      "..         ...         ...         ...          ...         ...          ...   \n",
      "367     111220           0      111220           00  2020-12-11          NaT   \n",
      "368     111220           0      111220           00  2020-12-11          NaT   \n",
      "369     250920      250920      250920       250920  2020-09-25   2020-09-25   \n",
      "370     151220           0      151220           00  2020-12-15          NaT   \n",
      "371     111120           0      111120           00  2020-11-11          NaT   \n",
      "\n",
      "    Fecha_Referencia Fecha_Referencia_1 Fecha_Referencia_2  \n",
      "0           20200901         2020-09-01         2020-09-30  \n",
      "1           20200901         2020-09-01         2020-09-30  \n",
      "2           20200901         2020-09-01         2020-09-30  \n",
      "3           20200901         2020-09-01         2020-09-30  \n",
      "4           20200901         2020-09-01         2020-09-30  \n",
      "..               ...                ...                ...  \n",
      "367         20200901         2020-09-01         2020-09-30  \n",
      "368         20200901         2020-09-01         2020-09-30  \n",
      "369         20200901         2020-09-01         2020-09-30  \n",
      "370         20200901         2020-09-01         2020-09-30  \n",
      "371         20200901         2020-09-01         2020-09-30  \n",
      "\n",
      "[372 rows x 9 columns]\n"
     ]
    }
   ],
   "source": [
    "PPADO1[\"Fecha_Referencia_2\"]= PPADO1[\"Fecha_Referencia_1\"] + MonthEnd(1)\n",
    "\n",
    "print(PPADO1)"
   ]
  },
  {
   "cell_type": "markdown",
   "metadata": {},
   "source": [
    "### Pasamos a principio de mes"
   ]
  },
  {
   "cell_type": "code",
   "execution_count": 10,
   "metadata": {},
   "outputs": [
    {
     "name": "stdout",
     "output_type": "stream",
     "text": [
      "     Fecha_Vto  Fecha_Pago Fecha_Vto_1 Fecha_Pago_1 Fecha_Vto_2 Fecha_Pago_2  \\\n",
      "0       250328      260308      250328       260308  2028-03-25   2008-03-26   \n",
      "1        30128      251108      030128       251108  2028-01-03   2008-11-25   \n",
      "2        30128      231208      030128       231208  2028-01-03   2008-12-23   \n",
      "3        30128      231208      030128       231208  2028-01-03   2008-12-23   \n",
      "4       140720      140720      140720       140720  2020-07-14   2020-07-14   \n",
      "..         ...         ...         ...          ...         ...          ...   \n",
      "367     111220           0      111220           00  2020-12-11          NaT   \n",
      "368     111220           0      111220           00  2020-12-11          NaT   \n",
      "369     250920      250920      250920       250920  2020-09-25   2020-09-25   \n",
      "370     151220           0      151220           00  2020-12-15          NaT   \n",
      "371     111120           0      111120           00  2020-11-11          NaT   \n",
      "\n",
      "    Fecha_Referencia Fecha_Referencia_1 Fecha_Referencia_2 Fecha_Referencia_3  \n",
      "0           20200901         2020-09-01         2020-09-30         2020-09-01  \n",
      "1           20200901         2020-09-01         2020-09-30         2020-09-01  \n",
      "2           20200901         2020-09-01         2020-09-30         2020-09-01  \n",
      "3           20200901         2020-09-01         2020-09-30         2020-09-01  \n",
      "4           20200901         2020-09-01         2020-09-30         2020-09-01  \n",
      "..               ...                ...                ...                ...  \n",
      "367         20200901         2020-09-01         2020-09-30         2020-09-01  \n",
      "368         20200901         2020-09-01         2020-09-30         2020-09-01  \n",
      "369         20200901         2020-09-01         2020-09-30         2020-09-01  \n",
      "370         20200901         2020-09-01         2020-09-30         2020-09-01  \n",
      "371         20200901         2020-09-01         2020-09-30         2020-09-01  \n",
      "\n",
      "[372 rows x 10 columns]\n"
     ]
    }
   ],
   "source": [
    "PPADO1[\"Fecha_Referencia_3\"]= PPADO1[\"Fecha_Referencia_2\"] + MonthBegin(-1)\n",
    "\n",
    "print(PPADO1)"
   ]
  },
  {
   "cell_type": "markdown",
   "metadata": {},
   "source": [
    "### Para extraer los días de un formato timedelta64"
   ]
  },
  {
   "cell_type": "code",
   "execution_count": 16,
   "metadata": {},
   "outputs": [
    {
     "name": "stdout",
     "output_type": "stream",
     "text": [
      "Fecha_Vto                       int64\n",
      "Fecha_Pago                      int64\n",
      "Fecha_Vto_1                    object\n",
      "Fecha_Pago_1                   object\n",
      "Fecha_Vto_2            datetime64[ns]\n",
      "Fecha_Pago_2           datetime64[ns]\n",
      "Fecha_Referencia               object\n",
      "Fecha_Referencia_1     datetime64[ns]\n",
      "Fecha_Referencia_2     datetime64[ns]\n",
      "Fecha_Referencia_3     datetime64[ns]\n",
      "Plazo_Restante_1      timedelta64[ns]\n",
      "Plazo_Restante                   int8\n",
      "dtype: object\n"
     ]
    }
   ],
   "source": [
    "PPADO1[\"Plazo_Restante_1\"]= PPADO1[\"Fecha_Referencia_2\"] - PPADO1[\"Fecha_Referencia_3\"]\n",
    "\n",
    "PPADO1[\"Plazo_Restante\"] = pd.to_numeric(PPADO1[\"Plazo_Restante_1\"].dt.day, downcast='integer')\n",
    "\n",
    "print(PPADO1.dtypes)"
   ]
  },
  {
   "cell_type": "markdown",
   "metadata": {},
   "source": [
    "### Extraer días de fecha python - no pandas"
   ]
  },
  {
   "cell_type": "code",
   "execution_count": null,
   "metadata": {},
   "outputs": [],
   "source": [
    "Dia = Fecha.day\n",
    "Mes = Fecha.month"
   ]
  },
  {
   "cell_type": "markdown",
   "metadata": {},
   "source": [
    "### Sumar días a una columna de fecha - También se puede usar en Python"
   ]
  },
  {
   "cell_type": "code",
   "execution_count": null,
   "metadata": {},
   "outputs": [],
   "source": [
    "from datetime import timedelta\n",
    "\n",
    "PPINV_1[\"Fecha_Referencia\"]= PPINV_1[\"Hoy\"] - timedelta(days=1)"
   ]
  },
  {
   "cell_type": "markdown",
   "metadata": {},
   "source": [
    "### Para dejar sólo la parte de fecha de un formato datetime"
   ]
  },
  {
   "cell_type": "code",
   "execution_count": null,
   "metadata": {},
   "outputs": [],
   "source": [
    "import datetime as dt\n",
    "\n",
    "df['just_date'] = df['dates'].dt.date"
   ]
  },
  {
   "cell_type": "markdown",
   "metadata": {},
   "source": [
    "## Traer la fecha de hoy"
   ]
  },
  {
   "cell_type": "code",
   "execution_count": 2,
   "metadata": {},
   "outputs": [
    {
     "name": "stdout",
     "output_type": "stream",
     "text": [
      "2021-04-27\n",
      "2021-04-27 14:45:10.522114\n"
     ]
    },
    {
     "data": {
      "text/plain": [
       "10"
      ]
     },
     "execution_count": 2,
     "metadata": {},
     "output_type": "execute_result"
    }
   ],
   "source": [
    "from datetime import date\n",
    "from datetime import datetime\n",
    "\n",
    "#Día actual\n",
    "today = date.today()\n",
    "\n",
    "#Fecha actual\n",
    "now = datetime.now()\n",
    "\n",
    "print(today)\n",
    "print(now)\n",
    "\n",
    "now.year   \n",
    "\n",
    "now.month  \n",
    "\n",
    "now.day    \n",
    "\n",
    "now.hour    \n",
    "\n",
    "now.minute\n",
    "\n",
    "now.second"
   ]
  },
  {
   "cell_type": "code",
   "execution_count": null,
   "metadata": {},
   "outputs": [],
   "source": []
  }
 ],
 "metadata": {
  "kernelspec": {
   "display_name": "Python 3",
   "language": "python",
   "name": "python3"
  },
  "language_info": {
   "codemirror_mode": {
    "name": "ipython",
    "version": 3
   },
   "file_extension": ".py",
   "mimetype": "text/x-python",
   "name": "python",
   "nbconvert_exporter": "python",
   "pygments_lexer": "ipython3",
   "version": "3.7.6"
  }
 },
 "nbformat": 4,
 "nbformat_minor": 4
}
