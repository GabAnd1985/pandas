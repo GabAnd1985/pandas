{
 "cells": [
  {
   "cell_type": "markdown",
   "metadata": {},
   "source": [
    "# Dar la indicación de que un código termine"
   ]
  },
  {
   "cell_type": "code",
   "execution_count": 5,
   "metadata": {},
   "outputs": [
    {
     "name": "stdout",
     "output_type": "stream",
     "text": [
      "                               \n",
      "      \n",
      "      \n",
      "              \n",
      "No existe el archivo 'BASES PRESTAMOS ATM'\n",
      "                               \n",
      "      \n",
      "      \n",
      "              \n",
      "Presione 'Enter' para cerrar\n"
     ]
    },
    {
     "name": "stderr",
     "output_type": "stream",
     "text": [
      "ERROR:root:Internal Python error in the inspect module.\n",
      "Below is the traceback from this internal error.\n",
      "\n"
     ]
    },
    {
     "name": "stdout",
     "output_type": "stream",
     "text": [
      "Traceback (most recent call last):\n",
      "  File \"<ipython-input-5-c0a415be9589>\", line 6, in <module>\n",
      "    xlsx= pd.ExcelFile(r\"\\\\santacruz.net\\dfs\\Shared\\riesgo\\BANCA DE CONSUMO\\CAMPAÑAS BI\\GERENCIA BANCA CONSUMO - BASES A ANALIZAR - RTE MARGINET\\{}\\BASES PRESTAMOS ATM {}.xlsx\".format(fecha, x))\n",
      "NameError: name 'fecha' is not defined\n",
      "\n",
      "During handling of the above exception, another exception occurred:\n",
      "\n",
      "Traceback (most recent call last):\n",
      "  File \"C:\\Users\\01904\\Anaconda3\\lib\\site-packages\\IPython\\core\\interactiveshell.py\", line 3331, in run_code\n",
      "    exec(code_obj, self.user_global_ns, self.user_ns)\n",
      "  File \"<ipython-input-5-c0a415be9589>\", line 22, in <module>\n",
      "    sys.exit(\"\")\n",
      "SystemExit\n",
      "\n",
      "During handling of the above exception, another exception occurred:\n",
      "\n",
      "Traceback (most recent call last):\n",
      "  File \"C:\\Users\\01904\\Anaconda3\\lib\\site-packages\\IPython\\core\\ultratb.py\", line 1151, in get_records\n",
      "    return _fixed_getinnerframes(etb, number_of_lines_of_context, tb_offset)\n",
      "  File \"C:\\Users\\01904\\Anaconda3\\lib\\site-packages\\IPython\\core\\ultratb.py\", line 319, in wrapped\n",
      "    return f(*args, **kwargs)\n",
      "  File \"C:\\Users\\01904\\Anaconda3\\lib\\site-packages\\IPython\\core\\ultratb.py\", line 353, in _fixed_getinnerframes\n",
      "    records = fix_frame_records_filenames(inspect.getinnerframes(etb, context))\n",
      "  File \"C:\\Users\\01904\\Anaconda3\\lib\\inspect.py\", line 1502, in getinnerframes\n",
      "    frameinfo = (tb.tb_frame,) + getframeinfo(tb, context)\n",
      "AttributeError: 'tuple' object has no attribute 'tb_frame'\n"
     ]
    },
    {
     "ename": "SystemExit",
     "evalue": "",
     "output_type": "error",
     "traceback": [
      "An exception has occurred, use %tb to see the full traceback.\n",
      "\u001b[1;31m---------------------------------------------------------------------------\u001b[0m",
      "\nDuring handling of the above exception, another exception occurred:\n",
      "\u001b[1;31mSystemExit\u001b[0m\n"
     ]
    },
    {
     "name": "stderr",
     "output_type": "stream",
     "text": [
      "C:\\Users\\01904\\Anaconda3\\lib\\site-packages\\IPython\\core\\interactiveshell.py:3339: UserWarning: To exit: use 'exit', 'quit', or Ctrl-D.\n",
      "  warn(\"To exit: use 'exit', 'quit', or Ctrl-D.\", stacklevel=1)\n"
     ]
    }
   ],
   "source": [
    "import sys\n",
    "import pandas as pd\n",
    "\n",
    "try:\n",
    "\n",
    "        xlsx= pd.ExcelFile(r\"\\\\santacruz.net\\dfs\\Shared\\riesgo\\BANCA DE CONSUMO\\CAMPAÑAS BI\\GERENCIA BANCA CONSUMO - BASES A ANALIZAR - RTE MARGINET\\{}\\BASES PRESTAMOS ATM {}.xlsx\".format(fecha, x))\n",
    "        \n",
    "except:\n",
    "        \n",
    "        print(\"\"\"                               \n",
    "      \n",
    "      \n",
    "              \"\"\")\n",
    "        print(\"No existe el archivo 'BASES PRESTAMOS ATM'\")\n",
    "        print(\"\"\"                               \n",
    "      \n",
    "      \n",
    "              \"\"\")\n",
    "\n",
    "        input(\"Presione 'Enter' para cerrar\")\n",
    "        \n",
    "        sys.exit(\"\")"
   ]
  },
  {
   "cell_type": "code",
   "execution_count": null,
   "metadata": {},
   "outputs": [],
   "source": []
  }
 ],
 "metadata": {
  "kernelspec": {
   "display_name": "Python 3",
   "language": "python",
   "name": "python3"
  },
  "language_info": {
   "codemirror_mode": {
    "name": "ipython",
    "version": 3
   },
   "file_extension": ".py",
   "mimetype": "text/x-python",
   "name": "python",
   "nbconvert_exporter": "python",
   "pygments_lexer": "ipython3",
   "version": "3.7.6"
  }
 },
 "nbformat": 4,
 "nbformat_minor": 4
}
