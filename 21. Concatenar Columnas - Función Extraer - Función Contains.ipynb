{
 "cells": [
  {
   "cell_type": "markdown",
   "metadata": {},
   "source": [
    "# Concatenar columnas"
   ]
  },
  {
   "cell_type": "code",
   "execution_count": 2,
   "metadata": {},
   "outputs": [],
   "source": [
    "import pandas as pd\n",
    "import numpy as np"
   ]
  },
  {
   "cell_type": "markdown",
   "metadata": {},
   "source": [
    "Importamos el archivo a usar:"
   ]
  },
  {
   "cell_type": "code",
   "execution_count": 4,
   "metadata": {},
   "outputs": [
    {
     "name": "stdout",
     "output_type": "stream",
     "text": [
      "     Moneda  Sucursal  Producto  Cuenta         CUIT  Fecha_Pago  Fecha_Vto  \\\n",
      "0        80         1       608   82039  20139316445      260308     250328   \n",
      "1        80         5       608   93370  30695307485      251108      30128   \n",
      "2        80         5       608   93370  30695307485      231208      30128   \n",
      "3        80         5       608   93370  30709853569      231208      30128   \n",
      "4        80         1       701  446302  30715313215      140720     140720   \n",
      "..      ...       ...       ...     ...          ...         ...        ...   \n",
      "367      80        15       608  457576  30707056920           0     111220   \n",
      "368      80        15       608  456128  20280089088           0     111220   \n",
      "369      80        55       608  456976  30715295861      250920     250920   \n",
      "370      80        25       608  457749  33716670509           0     151220   \n",
      "371      80        80       608  457921  30643644858           0     111120   \n",
      "\n",
      "       Importe  \n",
      "0      8860.00  \n",
      "1      5148.49  \n",
      "2      2926.02  \n",
      "3      3547.90  \n",
      "4    386666.91  \n",
      "..         ...  \n",
      "367   62500.00  \n",
      "368  200000.00  \n",
      "369  150000.00  \n",
      "370   36000.00  \n",
      "371  250000.00  \n",
      "\n",
      "[372 rows x 8 columns]\n"
     ]
    }
   ],
   "source": [
    "PPADO1= pd.read_table(\"examples\\PPADO 09.2020.txt\", \n",
    "                      sep= \"|\", skiprows= [0], \n",
    "                      names= [\"Moneda\", \"Sucursal\", \"Producto\", \"Cuenta\", \"CUIT\", \"Fecha_Pago\", \"Fecha_Vto\", \"Importe\"]) \n",
    "\n",
    "print(PPADO1)"
   ]
  },
  {
   "cell_type": "markdown",
   "metadata": {},
   "source": [
    "Concatenamos un cero cuando hace falta (esto a los efectos de luego convertir a fecha):"
   ]
  },
  {
   "cell_type": "code",
   "execution_count": 7,
   "metadata": {},
   "outputs": [
    {
     "name": "stdout",
     "output_type": "stream",
     "text": [
      "     Moneda  Sucursal  Producto  Cuenta         CUIT  Fecha_Pago  Fecha_Vto  \\\n",
      "0        80         1       608   82039  20139316445      260308     250328   \n",
      "1        80         5       608   93370  30695307485      251108      30128   \n",
      "2        80         5       608   93370  30695307485      231208      30128   \n",
      "3        80         5       608   93370  30709853569      231208      30128   \n",
      "4        80         1       701  446302  30715313215      140720     140720   \n",
      "..      ...       ...       ...     ...          ...         ...        ...   \n",
      "367      80        15       608  457576  30707056920           0     111220   \n",
      "368      80        15       608  456128  20280089088           0     111220   \n",
      "369      80        55       608  456976  30715295861      250920     250920   \n",
      "370      80        25       608  457749  33716670509           0     151220   \n",
      "371      80        80       608  457921  30643644858           0     111120   \n",
      "\n",
      "       Importe Fecha_Vto_1  \n",
      "0      8860.00      250328  \n",
      "1      5148.49      030128  \n",
      "2      2926.02      030128  \n",
      "3      3547.90      030128  \n",
      "4    386666.91      140720  \n",
      "..         ...         ...  \n",
      "367   62500.00      111220  \n",
      "368  200000.00      111220  \n",
      "369  150000.00      250920  \n",
      "370   36000.00      151220  \n",
      "371  250000.00      111120  \n",
      "\n",
      "[372 rows x 9 columns]\n"
     ]
    }
   ],
   "source": [
    "PPADO1['Fecha_Vto_1'] = np.where(PPADO1[\"Fecha_Vto\"] < 100000,\n",
    "                                ('0' + PPADO1['Fecha_Vto'].map(str)),\n",
    "                                 PPADO1['Fecha_Vto'].map(str))\n",
    "\n",
    "print(PPADO1)"
   ]
  },
  {
   "cell_type": "markdown",
   "metadata": {},
   "source": [
    "# Función Extraer + Otro Ejemplo Concatenar"
   ]
  },
  {
   "cell_type": "markdown",
   "metadata": {},
   "source": [
    "Importamos el archivo a usar:"
   ]
  },
  {
   "cell_type": "code",
   "execution_count": 3,
   "metadata": {},
   "outputs": [
    {
     "name": "stdout",
     "output_type": "stream",
     "text": [
      "         NIT                      Nombre Producto Sucursal     Cuenta  \\\n",
      "1        925                   CHUAR SRL   60.880       25  4.536.630   \n",
      "2        925                   CHUAR SRL   60.880       25  4.564.900   \n",
      "3        925                   CHUAR SRL   60.880       25  4.564.910   \n",
      "4        925                   CHUAR SRL   60.880       25  4.564.920   \n",
      "5        925                   CHUAR SRL   60.880       25  4.564.930   \n",
      "..       ...                         ...      ...      ...        ...   \n",
      "948  566.179     RICALDEZ GARCIA, NELSON   70.180       10  4.455.160   \n",
      "949  581.375  LEMARCHAND, MARCOS MARCELO   60.880       20  4.246.460   \n",
      "950  581.375  LEMARCHAND, MARCOS MARCELO   60.880       20  4.252.940   \n",
      "951  581.375  LEMARCHAND, MARCOS MARCELO   60.880       20  4.337.590   \n",
      "952  581.375  LEMARCHAND, MARCOS MARCELO   60.880       20  4.373.090   \n",
      "\n",
      "        Fec_Liq       Importe  \n",
      "1    18/05/2020     2.500.000  \n",
      "2    11/08/2020  1.067.706,06  \n",
      "3    11/08/2020  1.067.706,06  \n",
      "4    11/08/2020  1.067.706,06  \n",
      "5    11/08/2020  1.067.706,06  \n",
      "..          ...           ...  \n",
      "948  03/02/2020    801.670,02  \n",
      "949  27/06/2019       150.000  \n",
      "950  12/07/2019       152.700  \n",
      "951  11/10/2019       200.000  \n",
      "952  21/11/2019       150.000  \n",
      "\n",
      "[952 rows x 7 columns]\n"
     ]
    }
   ],
   "source": [
    "Operac1= pd.read_table(\"examples\\Valores_Negociados_BI 09.2020.txt\",\n",
    "                       header= None,  \n",
    "                       names= [\"NIT\", \"Nombre\", \"Producto\", \"Sucursal\", \"Cuenta\", \"Fec_Liq\", \"Importe\"])\n",
    "\n",
    "Operac2= Operac1.iloc[1:]\n",
    "\n",
    "print(Operac2)"
   ]
  },
  {
   "cell_type": "markdown",
   "metadata": {},
   "source": [
    "Dejamos las columnas que necesito para el ejemplo:"
   ]
  },
  {
   "cell_type": "code",
   "execution_count": 7,
   "metadata": {},
   "outputs": [
    {
     "name": "stdout",
     "output_type": "stream",
     "text": [
      "        Fec_Liq\n",
      "1    18/05/2020\n",
      "2    11/08/2020\n",
      "3    11/08/2020\n",
      "4    11/08/2020\n",
      "5    11/08/2020\n",
      "..          ...\n",
      "948  03/02/2020\n",
      "949  27/06/2019\n",
      "950  12/07/2019\n",
      "951  11/10/2019\n",
      "952  21/11/2019\n",
      "\n",
      "[952 rows x 1 columns]\n"
     ]
    }
   ],
   "source": [
    "Operac3= Operac2[[\"Fec_Liq\"]]\n",
    "\n",
    "print(Operac3)"
   ]
  },
  {
   "cell_type": "code",
   "execution_count": 11,
   "metadata": {},
   "outputs": [
    {
     "name": "stdout",
     "output_type": "stream",
     "text": [
      "        Fec_Liq day month  year Fec_Liq_1\n",
      "1    18/05/2020  18    05  2020  20200518\n",
      "2    11/08/2020  11    08  2020  20200811\n",
      "3    11/08/2020  11    08  2020  20200811\n",
      "4    11/08/2020  11    08  2020  20200811\n",
      "5    11/08/2020  11    08  2020  20200811\n",
      "..          ...  ..   ...   ...       ...\n",
      "948  03/02/2020  03    02  2020  20200203\n",
      "949  27/06/2019  27    06  2019  20190627\n",
      "950  12/07/2019  12    07  2019  20190712\n",
      "951  11/10/2019  11    10  2019  20191011\n",
      "952  21/11/2019  21    11  2019  20191121\n",
      "\n",
      "[952 rows x 5 columns]\n"
     ]
    },
    {
     "name": "stderr",
     "output_type": "stream",
     "text": [
      "C:\\Users\\Gabriel\\anaconda3\\lib\\site-packages\\ipykernel_launcher.py:1: SettingWithCopyWarning: \n",
      "A value is trying to be set on a copy of a slice from a DataFrame.\n",
      "Try using .loc[row_indexer,col_indexer] = value instead\n",
      "\n",
      "See the caveats in the documentation: https://pandas.pydata.org/pandas-docs/stable/user_guide/indexing.html#returning-a-view-versus-a-copy\n",
      "  \"\"\"Entry point for launching an IPython kernel.\n",
      "C:\\Users\\Gabriel\\anaconda3\\lib\\site-packages\\ipykernel_launcher.py:3: SettingWithCopyWarning: \n",
      "A value is trying to be set on a copy of a slice from a DataFrame.\n",
      "Try using .loc[row_indexer,col_indexer] = value instead\n",
      "\n",
      "See the caveats in the documentation: https://pandas.pydata.org/pandas-docs/stable/user_guide/indexing.html#returning-a-view-versus-a-copy\n",
      "  This is separate from the ipykernel package so we can avoid doing imports until\n",
      "C:\\Users\\Gabriel\\anaconda3\\lib\\site-packages\\ipykernel_launcher.py:5: SettingWithCopyWarning: \n",
      "A value is trying to be set on a copy of a slice from a DataFrame.\n",
      "Try using .loc[row_indexer,col_indexer] = value instead\n",
      "\n",
      "See the caveats in the documentation: https://pandas.pydata.org/pandas-docs/stable/user_guide/indexing.html#returning-a-view-versus-a-copy\n",
      "  \"\"\"\n",
      "C:\\Users\\Gabriel\\anaconda3\\lib\\site-packages\\ipykernel_launcher.py:7: SettingWithCopyWarning: \n",
      "A value is trying to be set on a copy of a slice from a DataFrame.\n",
      "Try using .loc[row_indexer,col_indexer] = value instead\n",
      "\n",
      "See the caveats in the documentation: https://pandas.pydata.org/pandas-docs/stable/user_guide/indexing.html#returning-a-view-versus-a-copy\n",
      "  import sys\n"
     ]
    }
   ],
   "source": [
    "Operac3[\"day\"]= Operac3[\"Fec_Liq\"].str[0:2] \n",
    "\n",
    "Operac3[\"month\"]= Operac3[\"Fec_Liq\"].str[3:5]\n",
    "\n",
    "Operac3[\"year\"]= Operac3[\"Fec_Liq\"].str[6:10]\n",
    "\n",
    "Operac3[\"Fec_Liq_1\"]= Operac3['year'].map(str) + Operac3['month'].map(str) + Operac3['day'].map(str)\n",
    "\n",
    "print(Operac3)"
   ]
  },
  {
   "cell_type": "markdown",
   "metadata": {},
   "source": [
    "# Función Contains"
   ]
  },
  {
   "cell_type": "code",
   "execution_count": 3,
   "metadata": {},
   "outputs": [
    {
     "name": "stdout",
     "output_type": "stream",
     "text": [
      "0               Mouse\n",
      "1                 dog\n",
      "2    house and parrot\n",
      "3                  23\n",
      "4                 NaN\n",
      "dtype: object\n"
     ]
    }
   ],
   "source": [
    "s1 = pd.Series(['Mouse', 'dog', 'house and parrot', '23', np.NaN])\n",
    "\n",
    "print(s1)"
   ]
  },
  {
   "cell_type": "code",
   "execution_count": 4,
   "metadata": {},
   "outputs": [
    {
     "name": "stdout",
     "output_type": "stream",
     "text": [
      "0    False\n",
      "1     True\n",
      "2    False\n",
      "3    False\n",
      "4      NaN\n",
      "dtype: object\n"
     ]
    }
   ],
   "source": [
    "s2= s1.str.contains('og', regex=False)\n",
    "\n",
    "print(s2)"
   ]
  },
  {
   "cell_type": "markdown",
   "metadata": {},
   "source": [
    "Con respecto al \"regex\", si es \"True\", asume que estamos trabajando con regular expresions. Caso contrario, si es \"False\", lo toma literal."
   ]
  },
  {
   "cell_type": "markdown",
   "metadata": {},
   "source": [
    "Si queremos que sea sensible a mayúsculas y minúsculas:"
   ]
  },
  {
   "cell_type": "code",
   "execution_count": 6,
   "metadata": {},
   "outputs": [
    {
     "name": "stdout",
     "output_type": "stream",
     "text": [
      "0    False\n",
      "1    False\n",
      "2    False\n",
      "3    False\n",
      "4      NaN\n",
      "dtype: object\n"
     ]
    }
   ],
   "source": [
    "s3= s1.str.contains('oG', case=True, regex=True)\n",
    "\n",
    "print(s3)"
   ]
  },
  {
   "cell_type": "markdown",
   "metadata": {},
   "source": [
    "Si queremos que trate a los NaN como \"False\", hacemos lo siguiente:"
   ]
  },
  {
   "cell_type": "code",
   "execution_count": 7,
   "metadata": {},
   "outputs": [
    {
     "name": "stdout",
     "output_type": "stream",
     "text": [
      "0    False\n",
      "1     True\n",
      "2    False\n",
      "3    False\n",
      "4    False\n",
      "dtype: bool\n"
     ]
    }
   ],
   "source": [
    "s4= s1.str.contains('og', na=False, regex=True)\n",
    "\n",
    "print(s4)"
   ]
  },
  {
   "cell_type": "markdown",
   "metadata": {},
   "source": [
    "Si queremos agregar un condicional:"
   ]
  },
  {
   "cell_type": "code",
   "execution_count": 8,
   "metadata": {},
   "outputs": [
    {
     "name": "stdout",
     "output_type": "stream",
     "text": [
      "0    False\n",
      "1     True\n",
      "2     True\n",
      "3    False\n",
      "4      NaN\n",
      "dtype: object\n"
     ]
    }
   ],
   "source": [
    "s5= s1.str.contains('house|dog', regex=True)\n",
    "\n",
    "print(s5)"
   ]
  },
  {
   "cell_type": "code",
   "execution_count": null,
   "metadata": {},
   "outputs": [],
   "source": []
  }
 ],
 "metadata": {
  "kernelspec": {
   "display_name": "Python 3",
   "language": "python",
   "name": "python3"
  },
  "language_info": {
   "codemirror_mode": {
    "name": "ipython",
    "version": 3
   },
   "file_extension": ".py",
   "mimetype": "text/x-python",
   "name": "python",
   "nbconvert_exporter": "python",
   "pygments_lexer": "ipython3",
   "version": "3.7.6"
  }
 },
 "nbformat": 4,
 "nbformat_minor": 4
}
