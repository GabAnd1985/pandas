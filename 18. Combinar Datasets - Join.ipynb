{
 "cells": [
  {
   "cell_type": "markdown",
   "metadata": {},
   "source": [
    "La información contenida en objetos pandas, puede ser combinada de diferentes maneras:\n",
    "\n",
    "- pandas.merge: conecta filas de un dataframe basándose en uno o más valores llave. Operación similar a los joins de SQL.\n",
    "- pandas.concat: concatena matrices, puede ser con numpy o pandas.\n",
    "- combine_first: empalma datos para llenar vacíos."
   ]
  },
  {
   "cell_type": "markdown",
   "metadata": {},
   "source": [
    "# Merge o Join"
   ]
  },
  {
   "cell_type": "markdown",
   "metadata": {},
   "source": [
    "### Inner Join"
   ]
  },
  {
   "cell_type": "markdown",
   "metadata": {},
   "source": [
    "Como dijimos, combinan filas usando una o más llaves. Empezamos con un ejemplo:"
   ]
  },
  {
   "cell_type": "code",
   "execution_count": 2,
   "metadata": {},
   "outputs": [],
   "source": [
    "import pandas as pd\n",
    "import numpy as np"
   ]
  },
  {
   "cell_type": "code",
   "execution_count": 4,
   "metadata": {},
   "outputs": [
    {
     "name": "stdout",
     "output_type": "stream",
     "text": [
      "  key  data1\n",
      "0   b      0\n",
      "1   b      1\n",
      "2   a      2\n",
      "3   c      3\n",
      "4   a      4\n",
      "5   a      5\n",
      "6   b      6\n"
     ]
    }
   ],
   "source": [
    "df1= pd.DataFrame({\"key\": [\"b\", \"b\", \"a\", \"c\", \"a\", \"a\", \"b\"],\n",
    "                  \"data1\": range(7)})\n",
    "\n",
    "print(df1)"
   ]
  },
  {
   "cell_type": "code",
   "execution_count": 5,
   "metadata": {},
   "outputs": [
    {
     "name": "stdout",
     "output_type": "stream",
     "text": [
      "  key  data2\n",
      "0   a      0\n",
      "1   b      1\n",
      "2   d      2\n"
     ]
    }
   ],
   "source": [
    "df2= pd.DataFrame({\"key\": [\"a\", \"b\", \"d\"],\n",
    "                  \"data2\": range(3)})\n",
    "\n",
    "print(df2)"
   ]
  },
  {
   "cell_type": "markdown",
   "metadata": {},
   "source": [
    "Este es el típico caso de un busvarv. Mientras en el primer dataset tenemos varios valores repetidos en la columna \"key\", en el segundo dataset, no tenemos valores repetidos. Lo que se conoce como \"Many to one\":"
   ]
  },
  {
   "cell_type": "code",
   "execution_count": 12,
   "metadata": {},
   "outputs": [
    {
     "name": "stdout",
     "output_type": "stream",
     "text": [
      "  key  data1  data2\n",
      "0   b      0      1\n",
      "1   b      1      1\n",
      "2   b      6      1\n",
      "3   a      2      0\n",
      "4   a      4      0\n",
      "5   a      5      0\n"
     ]
    }
   ],
   "source": [
    "df3= pd.merge(df1, df2)  \n",
    "\n",
    "print(df3)"
   ]
  },
  {
   "cell_type": "markdown",
   "metadata": {},
   "source": [
    "Notese que en el caso anterior no indicamos la columna llave para hacer la unión. Es una buena práctica hacerlo de la siguiente manera: "
   ]
  },
  {
   "cell_type": "code",
   "execution_count": 7,
   "metadata": {},
   "outputs": [
    {
     "name": "stdout",
     "output_type": "stream",
     "text": [
      "  key  data1  data2\n",
      "0   b      0      1\n",
      "1   b      1      1\n",
      "2   b      6      1\n",
      "3   a      2      0\n",
      "4   a      4      0\n",
      "5   a      5      0\n"
     ]
    }
   ],
   "source": [
    "df4= pd.merge(df1, df2, on= \"key\")\n",
    "\n",
    "print(df4)"
   ]
  },
  {
   "cell_type": "markdown",
   "metadata": {},
   "source": [
    "Hagamos de cuenta que las columnas llave tienen diferente nombre:"
   ]
  },
  {
   "cell_type": "code",
   "execution_count": 8,
   "metadata": {},
   "outputs": [
    {
     "name": "stdout",
     "output_type": "stream",
     "text": [
      "  lkey  data1\n",
      "0    b      0\n",
      "1    b      1\n",
      "2    a      2\n",
      "3    c      3\n",
      "4    a      4\n",
      "5    a      5\n",
      "6    b      6\n"
     ]
    }
   ],
   "source": [
    "df5= pd.DataFrame({\"lkey\": [\"b\", \"b\", \"a\", \"c\", \"a\", \"a\", \"b\"],\n",
    "                   \"data1\": range(7)})\n",
    "\n",
    "print(df5)"
   ]
  },
  {
   "cell_type": "code",
   "execution_count": 9,
   "metadata": {},
   "outputs": [
    {
     "name": "stdout",
     "output_type": "stream",
     "text": [
      "  rkey  data2\n",
      "0    a      0\n",
      "1    b      1\n",
      "2    d      2\n"
     ]
    }
   ],
   "source": [
    "df6= pd.DataFrame({\"rkey\": [\"a\", \"b\", \"d\"],\n",
    "                   \"data2\": range(3)})\n",
    "\n",
    "print(df6)"
   ]
  },
  {
   "cell_type": "code",
   "execution_count": 11,
   "metadata": {},
   "outputs": [
    {
     "name": "stdout",
     "output_type": "stream",
     "text": [
      "  lkey  data1 rkey  data2\n",
      "0    b      0    b      1\n",
      "1    b      1    b      1\n",
      "2    b      6    b      1\n",
      "3    a      2    a      0\n",
      "4    a      4    a      0\n",
      "5    a      5    a      0\n"
     ]
    }
   ],
   "source": [
    "df7= pd.merge(df5, df6, left_on= \"lkey\", right_on= \"rkey\")\n",
    "\n",
    "print(df7)"
   ]
  },
  {
   "cell_type": "markdown",
   "metadata": {},
   "source": [
    "Como se puede observar, el resultado es un inner join, se puede hacer otros tipos de join de la sgte manera:\n",
    "\n",
    "- left\n",
    "- right\n",
    "- outer (es el full join)\n"
   ]
  },
  {
   "cell_type": "code",
   "execution_count": 13,
   "metadata": {},
   "outputs": [
    {
     "name": "stdout",
     "output_type": "stream",
     "text": [
      "  key  data1  data2\n",
      "0   b      0    1.0\n",
      "1   b      1    1.0\n",
      "2   a      2    0.0\n",
      "3   c      3    NaN\n",
      "4   a      4    0.0\n",
      "5   a      5    0.0\n",
      "6   b      6    1.0\n"
     ]
    }
   ],
   "source": [
    "df8= pd.merge(df1, df2, how= \"left\")\n",
    "\n",
    "print(df8)"
   ]
  },
  {
   "cell_type": "markdown",
   "metadata": {},
   "source": [
    "## Left Join"
   ]
  },
  {
   "cell_type": "code",
   "execution_count": 14,
   "metadata": {},
   "outputs": [
    {
     "name": "stdout",
     "output_type": "stream",
     "text": [
      "  key  data1\n",
      "0   b      0\n",
      "1   b      1\n",
      "2   a      2\n",
      "3   c      3\n",
      "4   a      4\n",
      "5   b      5\n"
     ]
    }
   ],
   "source": [
    "df9= pd.DataFrame({\"key\": [\"b\", \"b\", \"a\", \"c\", \"a\", \"b\"],\n",
    "                   \"data1\": range(6)})\n",
    "\n",
    "print(df9)"
   ]
  },
  {
   "cell_type": "code",
   "execution_count": 15,
   "metadata": {},
   "outputs": [
    {
     "name": "stdout",
     "output_type": "stream",
     "text": [
      "  key  data2\n",
      "0   a      0\n",
      "1   b      1\n",
      "2   a      2\n",
      "3   b      3\n",
      "4   d      4\n"
     ]
    }
   ],
   "source": [
    "df10= pd.DataFrame({\"key\": [\"a\", \"b\", \"a\", \"b\", \"d\"],\n",
    "                    \"data2\": range(5)})\n",
    "\n",
    "print(df10)"
   ]
  },
  {
   "cell_type": "code",
   "execution_count": 16,
   "metadata": {},
   "outputs": [
    {
     "name": "stdout",
     "output_type": "stream",
     "text": [
      "   key  data1  data2\n",
      "0    b      0    1.0\n",
      "1    b      0    3.0\n",
      "2    b      1    1.0\n",
      "3    b      1    3.0\n",
      "4    a      2    0.0\n",
      "5    a      2    2.0\n",
      "6    c      3    NaN\n",
      "7    a      4    0.0\n",
      "8    a      4    2.0\n",
      "9    b      5    1.0\n",
      "10   b      5    3.0\n"
     ]
    }
   ],
   "source": [
    "df11= pd.merge(df9, df10, on= \"key\", how= \"left\")\n",
    "\n",
    "print(df11)"
   ]
  },
  {
   "cell_type": "markdown",
   "metadata": {},
   "source": [
    "### Merge por Múltiples Variables key"
   ]
  },
  {
   "cell_type": "code",
   "execution_count": 18,
   "metadata": {},
   "outputs": [
    {
     "name": "stdout",
     "output_type": "stream",
     "text": [
      "  key1 key2  lval\n",
      "0  foo  one     1\n",
      "1  foo  two     2\n",
      "2  bar  one     3\n"
     ]
    }
   ],
   "source": [
    "left= pd.DataFrame({\"key1\": [\"foo\", \"foo\", \"bar\"],\n",
    "                    \"key2\": [\"one\", \"two\", \"one\"],\n",
    "                    \"lval\": [1, 2, 3]})\n",
    "\n",
    "print(left)"
   ]
  },
  {
   "cell_type": "code",
   "execution_count": 21,
   "metadata": {},
   "outputs": [
    {
     "name": "stdout",
     "output_type": "stream",
     "text": [
      "  key1 key2  rval\n",
      "0  foo  one     4\n",
      "1  foo  one     5\n",
      "2  bar  one     6\n",
      "3  bar  two     7\n"
     ]
    }
   ],
   "source": [
    "right= pd.DataFrame({\"key1\": [\"foo\", \"foo\", \"bar\", \"bar\"],\n",
    "                    \"key2\": [\"one\", \"one\", \"one\", \"two\"],\n",
    "                    \"rval\": [4, 5, 6, 7]})\n",
    "                    \n",
    "print(right)"
   ]
  },
  {
   "cell_type": "code",
   "execution_count": 22,
   "metadata": {},
   "outputs": [
    {
     "name": "stdout",
     "output_type": "stream",
     "text": [
      "  key1 key2  lval  rval\n",
      "0  foo  one     1   4.0\n",
      "1  foo  one     1   5.0\n",
      "2  foo  two     2   NaN\n",
      "3  bar  one     3   6.0\n"
     ]
    }
   ],
   "source": [
    "ready= pd.merge(left, right, on= [\"key1\", \"key2\"], how= \"left\")\n",
    "\n",
    "print(ready)"
   ]
  },
  {
   "cell_type": "markdown",
   "metadata": {},
   "source": [
    "En los merge, los índices son descartados"
   ]
  },
  {
   "cell_type": "markdown",
   "metadata": {},
   "source": [
    "### Columnas que coinciden en nombre"
   ]
  },
  {
   "cell_type": "code",
   "execution_count": 25,
   "metadata": {},
   "outputs": [
    {
     "name": "stdout",
     "output_type": "stream",
     "text": [
      "  key1 key2_x  lval key2_y  rval\n",
      "0  foo    one     1    one     4\n",
      "1  foo    one     1    one     5\n",
      "2  foo    two     2    one     4\n",
      "3  foo    two     2    one     5\n",
      "4  bar    one     3    one     6\n",
      "5  bar    one     3    two     7\n"
     ]
    }
   ],
   "source": [
    "ready1= pd.merge(left, right, on= \"key1\", how= \"left\")\n",
    "\n",
    "print(ready1)"
   ]
  },
  {
   "cell_type": "markdown",
   "metadata": {},
   "source": [
    "Por defecto, a los efectos de que no se repitan los nombres, python coloca la terminación \"_x\" y \"_y\". No obstante, nosotros podemos indicar los sufijos que queramos de la sgte manera:"
   ]
  },
  {
   "cell_type": "code",
   "execution_count": 27,
   "metadata": {},
   "outputs": [
    {
     "name": "stdout",
     "output_type": "stream",
     "text": [
      "  key1 key2_left  lval key2_right  rval\n",
      "0  foo       one     1        one     4\n",
      "1  foo       one     1        one     5\n",
      "2  foo       two     2        one     4\n",
      "3  foo       two     2        one     5\n",
      "4  bar       one     3        one     6\n",
      "5  bar       one     3        two     7\n"
     ]
    }
   ],
   "source": [
    "ready2= pd.merge(left, right, on= \"key1\", how= \"left\", suffixes= (\"_left\", \"_right\"))\n",
    "\n",
    "print(ready2)"
   ]
  },
  {
   "cell_type": "markdown",
   "metadata": {},
   "source": [
    "# Concatenar a lo largo de una fila"
   ]
  },
  {
   "cell_type": "markdown",
   "metadata": {},
   "source": [
    "### Usando Numpy"
   ]
  },
  {
   "cell_type": "markdown",
   "metadata": {},
   "source": [
    "Básicamente se trata de concatenar matrices, bajo numpy el método es el siguiente:"
   ]
  },
  {
   "cell_type": "code",
   "execution_count": 3,
   "metadata": {},
   "outputs": [
    {
     "name": "stdout",
     "output_type": "stream",
     "text": [
      "[[ 0  1  2  3]\n",
      " [ 4  5  6  7]\n",
      " [ 8  9 10 11]]\n"
     ]
    }
   ],
   "source": [
    "arr= np.arange(12).reshape((3,4))\n",
    "\n",
    "print(arr)"
   ]
  },
  {
   "cell_type": "code",
   "execution_count": 6,
   "metadata": {},
   "outputs": [
    {
     "name": "stdout",
     "output_type": "stream",
     "text": [
      "[[ 0  1  2  3  0  1  2  3]\n",
      " [ 4  5  6  7  4  5  6  7]\n",
      " [ 8  9 10 11  8  9 10 11]]\n"
     ]
    }
   ],
   "source": [
    "arr1= np.concatenate([arr, arr], axis= 1)\n",
    "\n",
    "print(arr1)"
   ]
  },
  {
   "cell_type": "markdown",
   "metadata": {},
   "source": [
    "### Usando Pandas"
   ]
  },
  {
   "cell_type": "code",
   "execution_count": 33,
   "metadata": {},
   "outputs": [
    {
     "name": "stdout",
     "output_type": "stream",
     "text": [
      "a    0\n",
      "b    1\n",
      "dtype: int64\n",
      "--------------------------\n",
      "c    2\n",
      "d    3\n",
      "e    4\n",
      "dtype: int64\n",
      "--------------------------\n",
      "f    5\n",
      "g    6\n",
      "dtype: int64\n"
     ]
    }
   ],
   "source": [
    "s1= pd.Series([0, 1], index= [\"a\", \"b\"])\n",
    "\n",
    "s2= pd.Series([2, 3, 4], index= [\"c\", \"d\", \"e\"])\n",
    "\n",
    "s3= pd.Series([5, 6], index= [\"f\", \"g\"])\n",
    "\n",
    "print(s1)\n",
    "print(\"--------------------------\")\n",
    "print(s2)\n",
    "print(\"--------------------------\")\n",
    "print(s3)"
   ]
  },
  {
   "cell_type": "code",
   "execution_count": 36,
   "metadata": {},
   "outputs": [
    {
     "name": "stdout",
     "output_type": "stream",
     "text": [
      "a    0\n",
      "b    1\n",
      "c    2\n",
      "d    3\n",
      "e    4\n",
      "f    5\n",
      "g    6\n",
      "dtype: int64\n"
     ]
    }
   ],
   "source": [
    "s4= pd.concat([s1, s2, s3], axis= 0)  #axis= 0 apenda para abajo\n",
    "\n",
    "print(s4)"
   ]
  },
  {
   "cell_type": "code",
   "execution_count": 37,
   "metadata": {},
   "outputs": [
    {
     "name": "stdout",
     "output_type": "stream",
     "text": [
      "     0    1    2\n",
      "a  0.0  NaN  NaN\n",
      "b  1.0  NaN  NaN\n",
      "c  NaN  2.0  NaN\n",
      "d  NaN  3.0  NaN\n",
      "e  NaN  4.0  NaN\n",
      "f  NaN  NaN  5.0\n",
      "g  NaN  NaN  6.0\n"
     ]
    }
   ],
   "source": [
    "s5= pd.concat([s1, s2, s3], axis= 1)  #axis= 1 apenda para el costado, siempre que coincidan los índices\n",
    "\n",
    "print(s5)"
   ]
  },
  {
   "cell_type": "markdown",
   "metadata": {},
   "source": [
    "Trabajando con axis= 1, también podemos dar la indicación de join= \"inner\", para que sólo aparezcan aquellas que están en ambas tablas"
   ]
  },
  {
   "cell_type": "markdown",
   "metadata": {},
   "source": [
    "En alguna versión, se podía indicar los índices que queríamos usar. Actualmente no me permite usarla:"
   ]
  },
  {
   "cell_type": "code",
   "execution_count": 48,
   "metadata": {},
   "outputs": [
    {
     "name": "stdout",
     "output_type": "stream",
     "text": [
      "a    0\n",
      "b    1\n",
      "f    5\n",
      "g    6\n",
      "dtype: int64\n"
     ]
    }
   ],
   "source": [
    "s6= pd.concat([s1, s3])\n",
    "\n",
    "print(s6)"
   ]
  },
  {
   "cell_type": "code",
   "execution_count": 49,
   "metadata": {},
   "outputs": [],
   "source": [
    "#s7= pd.concat([s1, s6], axis= 1, join_axes=[[\"a\", \"c\", \"b\", \"e\"]])\n",
    "\n",
    "#print(s7)"
   ]
  },
  {
   "cell_type": "markdown",
   "metadata": {},
   "source": [
    "La lógica es la misma al usar DataFrames:"
   ]
  },
  {
   "cell_type": "code",
   "execution_count": 2,
   "metadata": {},
   "outputs": [
    {
     "name": "stdout",
     "output_type": "stream",
     "text": [
      "          a         b         c         d\n",
      "0  0.260531  0.583142 -0.407826  0.546556\n",
      "1  0.532524  0.193869  0.339116 -0.263985\n",
      "2  1.212656  0.378886 -1.522684  0.175709\n"
     ]
    }
   ],
   "source": [
    "df1= pd.DataFrame(np.random.randn(3, 4), columns= [\"a\", \"b\", \"c\", \"d\"])\n",
    "\n",
    "print(df1)"
   ]
  },
  {
   "cell_type": "code",
   "execution_count": 53,
   "metadata": {},
   "outputs": [
    {
     "name": "stdout",
     "output_type": "stream",
     "text": [
      "          b         d         a\n",
      "0  2.272472  0.779073 -0.273988\n",
      "1  0.280470 -0.064792 -0.685696\n"
     ]
    }
   ],
   "source": [
    "df2= pd.DataFrame(np.random.randn(2, 3), columns= [\"b\", \"d\", \"a\"])\n",
    "\n",
    "print(df2)"
   ]
  },
  {
   "cell_type": "code",
   "execution_count": 54,
   "metadata": {},
   "outputs": [
    {
     "name": "stdout",
     "output_type": "stream",
     "text": [
      "          a         b         c         d\n",
      "0  0.974672  0.793093 -2.021308  0.135742\n",
      "1  0.625530  1.164840 -0.918084  1.297364\n",
      "2 -1.665539  0.379139 -0.237256  0.702509\n",
      "0 -0.273988  2.272472       NaN  0.779073\n",
      "1 -0.685696  0.280470       NaN -0.064792\n"
     ]
    }
   ],
   "source": [
    "df3= pd.concat([df1, df2])\n",
    "\n",
    "print(df3)"
   ]
  },
  {
   "cell_type": "markdown",
   "metadata": {},
   "source": [
    "Si el index no tiene ninguna utilidad, podemos hacer lo siguiente:"
   ]
  },
  {
   "cell_type": "code",
   "execution_count": 55,
   "metadata": {},
   "outputs": [
    {
     "name": "stdout",
     "output_type": "stream",
     "text": [
      "          a         b         c         d\n",
      "0  0.974672  0.793093 -2.021308  0.135742\n",
      "1  0.625530  1.164840 -0.918084  1.297364\n",
      "2 -1.665539  0.379139 -0.237256  0.702509\n",
      "3 -0.273988  2.272472       NaN  0.779073\n",
      "4 -0.685696  0.280470       NaN -0.064792\n"
     ]
    }
   ],
   "source": [
    "df4= pd.concat([df1, df2], ignore_index= True)\n",
    "\n",
    "print(df4)"
   ]
  },
  {
   "cell_type": "markdown",
   "metadata": {},
   "source": [
    "# Combine con overlap"
   ]
  },
  {
   "cell_type": "markdown",
   "metadata": {},
   "source": [
    "No es nada que no se pueda hacer con los otros métodos:"
   ]
  },
  {
   "cell_type": "code",
   "execution_count": 2,
   "metadata": {},
   "outputs": [
    {
     "name": "stdout",
     "output_type": "stream",
     "text": [
      "     a    b   c\n",
      "0  1.0  NaN   2\n",
      "1  NaN  2.0   6\n",
      "2  5.0  NaN  10\n",
      "3  NaN  6.0  14\n"
     ]
    }
   ],
   "source": [
    "df1= pd.DataFrame({\"a\": [1., np.nan, 5, np.nan],\n",
    "                   \"b\": [np.nan, 2., np.nan, 6.],\n",
    "                   \"c\": range(2, 18, 4)})\n",
    "\n",
    "print(df1)"
   ]
  },
  {
   "cell_type": "code",
   "execution_count": 4,
   "metadata": {},
   "outputs": [
    {
     "name": "stdout",
     "output_type": "stream",
     "text": [
      "     a    b\n",
      "0  5.0  NaN\n",
      "1  4.0  3.0\n",
      "2  NaN  4.0\n",
      "3  3.0  6.0\n",
      "4  7.0  8.0\n"
     ]
    }
   ],
   "source": [
    "df2= pd.DataFrame({\"a\": [5., 4., np.nan, 3., 7.],\n",
    "                   \"b\": [np.nan, 3., 4., 6., 8.]})\n",
    "\n",
    "print(df2)"
   ]
  },
  {
   "cell_type": "code",
   "execution_count": 5,
   "metadata": {},
   "outputs": [
    {
     "name": "stdout",
     "output_type": "stream",
     "text": [
      "     a    b     c\n",
      "0  1.0  NaN   2.0\n",
      "1  4.0  2.0   6.0\n",
      "2  5.0  4.0  10.0\n",
      "3  3.0  6.0  14.0\n",
      "4  7.0  8.0   NaN\n"
     ]
    }
   ],
   "source": [
    "df3= df1.combine_first(df2)\n",
    "\n",
    "print(df3)"
   ]
  },
  {
   "cell_type": "markdown",
   "metadata": {},
   "source": [
    "Básicamente, le damos la indicación de que llene uno con los datos de otro, en aquellos lugares donde hay valores vacíos o nan."
   ]
  }
 ],
 "metadata": {
  "kernelspec": {
   "display_name": "Python 3",
   "language": "python",
   "name": "python3"
  },
  "language_info": {
   "codemirror_mode": {
    "name": "ipython",
    "version": 3
   },
   "file_extension": ".py",
   "mimetype": "text/x-python",
   "name": "python",
   "nbconvert_exporter": "python",
   "pygments_lexer": "ipython3",
   "version": "3.7.6"
  }
 },
 "nbformat": 4,
 "nbformat_minor": 4
}
